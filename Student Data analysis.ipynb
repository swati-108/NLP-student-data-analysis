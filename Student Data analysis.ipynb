{
  "nbformat": 4,
  "nbformat_minor": 0,
  "metadata": {
    "colab": {
      "provenance": [],
      "authorship_tag": "ABX9TyMRBmYkLf0za2p5D21kIsPZ",
      "include_colab_link": true
    },
    "kernelspec": {
      "name": "python3",
      "display_name": "Python 3"
    },
    "language_info": {
      "name": "python"
    },
    "accelerator": "GPU",
    "gpuClass": "standard"
  },
  "cells": [
    {
      "cell_type": "markdown",
      "metadata": {
        "id": "view-in-github",
        "colab_type": "text"
      },
      "source": [
        "<a href=\"https://colab.research.google.com/github/swati-108/NLP-student-data-analysis/blob/main/Student%20Data%20analysis.ipynb\" target=\"_parent\"><img src=\"https://colab.research.google.com/assets/colab-badge.svg\" alt=\"Open In Colab\"/></a>"
      ]
    },
    {
      "cell_type": "code",
      "execution_count": 1,
      "metadata": {
        "id": "4sJd2NuFO8ht"
      },
      "outputs": [],
      "source": [
        "import tensorflow as tf"
      ]
    },
    {
      "cell_type": "code",
      "source": [
        "import numpy as np"
      ],
      "metadata": {
        "id": "xpekXdYfPGfp"
      },
      "execution_count": null,
      "outputs": []
    },
    {
      "cell_type": "code",
      "source": [
        "import matplotlib.pyplot as plt"
      ],
      "metadata": {
        "id": "dDxYfNpJPLeP"
      },
      "execution_count": null,
      "outputs": []
    },
    {
      "cell_type": "code",
      "source": [
        "import pandas as pd"
      ],
      "metadata": {
        "id": "LitnBcH7POpZ"
      },
      "execution_count": null,
      "outputs": []
    },
    {
      "cell_type": "code",
      "source": [
        "x = np.array([-7.0, -4.0, -1.0, 2.0, 5.0, 8.0, 11.0, 14.0])\n",
        "y = np.array([3.0, 6.0, 9.0, 12.0, 15.0, 18.0, 21.0, 24.0])\n",
        "plt.scatter(x, y);"
      ],
      "metadata": {
        "colab": {
          "base_uri": "https://localhost:8080/",
          "height": 269
        },
        "id": "m-HlmFmOQr-j",
        "outputId": "d9af181d-d0ce-4dc3-a9db-9d9c5361b51f"
      },
      "execution_count": null,
      "outputs": [
        {
          "output_type": "display_data",
          "data": {
            "text/plain": [
              "<Figure size 432x288 with 1 Axes>"
            ],
            "image/png": "[encoded data removed]"
          },
          "metadata": {
            "needs_background": "light"
          }
        }
      ]
    },
    {
      "cell_type": "code",
      "source": [
        "x = tf.cast(tf.constant(x), dtype=tf.float32)\n",
        "y = tf.cast(tf.constant(y), dtype=tf.float32)\n",
        "x, y\n",
        ""
      ],
      "metadata": {
        "colab": {
          "base_uri": "https://localhost:8080/"
        },
        "id": "Ciyp7oMoS2EB",
        "outputId": "cd65c48a-b595-40f8-cd13-fe83b8b3a278"
      },
      "execution_count": null,
      "outputs": [
        {
          "output_type": "execute_result",
          "data": {
            "text/plain": [
              "(<tf.Tensor: shape=(8,), dtype=float32, numpy=array([-7., -4., -1.,  2.,  5.,  8., 11., 14.], dtype=float32)>,\n",
              " <tf.Tensor: shape=(8,), dtype=float32, numpy=array([ 3.,  6.,  9., 12., 15., 18., 21., 24.], dtype=float32)>)"
            ]
          },
          "metadata": {},
          "execution_count": 11
        }
      ]
    },
    {
      "cell_type": "code",
      "source": [
        "tf.random.set_seed(42)\n",
        "model=tf.keras.Sequential([\n",
        "    tf.keras.layers.Dense(1)\n",
        "])\n",
        "model.compile(loss=tf.keras.losses.mae,\n",
        "              optimizer=tf.keras.optimizers.SGD(),\n",
        "              metrics=[\"mae\"])\n",
        "model.fit(tf.expand_dims(x,axis=-1),y,epochs=5)"
      ],
      "metadata": {
        "colab": {
          "base_uri": "https://localhost:8080/"
        },
        "id": "5rduLfbUPVjK",
        "outputId": "e15f86c2-eaf8-4f8b-8c6c-36e63e53b3dc"
      },
      "execution_count": null,
      "outputs": [
        {
          "output_type": "stream",
          "name": "stdout",
          "text": [
            "Epoch 1/5\n",
            "1/1 [==============================] - 5s 5s/step - loss: 20.7889 - mae: 20.7889\n",
            "Epoch 2/5\n",
            "1/1 [==============================] - 0s 10ms/step - loss: 20.4308 - mae: 20.4308\n",
            "Epoch 3/5\n",
            "1/1 [==============================] - 0s 9ms/step - loss: 20.1495 - mae: 20.1495\n",
            "Epoch 4/5\n",
            "1/1 [==============================] - 0s 9ms/step - loss: 19.8683 - mae: 19.8683\n",
            "Epoch 5/5\n",
            "1/1 [==============================] - 0s 15ms/step - loss: 19.5870 - mae: 19.5870\n"
          ]
        },
        {
          "output_type": "execute_result",
          "data": {
            "text/plain": [
              "<keras.callbacks.History at 0x7f2a6c43eaf0>"
            ]
          },
          "metadata": {},
          "execution_count": 12
        }
      ]
    },
    {
      "cell_type": "code",
      "source": [
        "model.predict([17.0])"
      ],
      "metadata": {
        "colab": {
          "base_uri": "https://localhost:8080/"
        },
        "id": "gnsuIOvKRQoi",
        "outputId": "7f5a6a38-54ca-4163-adf2-8de54081de6f"
      },
      "execution_count": null,
      "outputs": [
        {
          "output_type": "stream",
          "name": "stdout",
          "text": [
            "1/1 [==============================] - 0s 86ms/step\n"
          ]
        },
        {
          "output_type": "execute_result",
          "data": {
            "text/plain": [
              "array([[-21.278275]], dtype=float32)"
            ]
          },
          "metadata": {},
          "execution_count": 13
        }
      ]
    },
    {
      "cell_type": "code",
      "source": [
        "tf.random.set_seed(42)\n",
        "model=tf.keras.Sequential([\n",
        "    tf.keras.layers.Dense(100, activation=\"relu\"),\n",
        "    tf.keras.layers.Dense(100, activation=\"relu\"),\n",
        "    tf.keras.layers.Dense(100, activation=\"relu\"),\n",
        "    tf.keras.layers.Dense(1)\n",
        "\n",
        "])\n",
        "model.compile(loss=tf.keras.losses.mae,\n",
        "              optimizer=tf.keras.optimizers.Adam(lr=0.0001),\n",
        "              metrics=[\"mae\"])\n",
        "model.fit(tf.expand_dims(x,axis=-1),y,epochs=100)"
      ],
      "metadata": {
        "colab": {
          "base_uri": "https://localhost:8080/"
        },
        "id": "AA0hi2HHYCGx",
        "outputId": "3e5ecc51-e189-4c6e-a12b-82c2c9b61313"
      },
      "execution_count": null,
      "outputs": [
        {
          "output_type": "stream",
          "name": "stderr",
          "text": [
            "WARNING:absl:`lr` is deprecated, please use `learning_rate` instead, or use the legacy optimizer, e.g.,tf.keras.optimizers.legacy.Adam.\n"
          ]
        },
        {
          "output_type": "stream",
          "name": "stdout",
          "text": [
            "Epoch 1/100\n",
            "1/1 [==============================] - 1s 1s/step - loss: 13.8459 - mae: 13.8459\n",
            "Epoch 2/100\n",
            "1/1 [==============================] - 0s 11ms/step - loss: 13.5077 - mae: 13.5077\n",
            "Epoch 3/100\n",
            "1/1 [==============================] - 0s 11ms/step - loss: 13.1878 - mae: 13.1878\n",
            "Epoch 4/100\n",
            "1/1 [==============================] - 0s 11ms/step - loss: 12.8992 - mae: 12.8992\n",
            "Epoch 5/100\n",
            "1/1 [==============================] - 0s 11ms/step - loss: 12.6487 - mae: 12.6487\n",
            "Epoch 6/100\n",
            "1/1 [==============================] - 0s 11ms/step - loss: 12.4122 - mae: 12.4122\n",
            "Epoch 7/100\n",
            "1/1 [==============================] - 0s 10ms/step - loss: 12.2020 - mae: 12.2020\n",
            "Epoch 8/100\n",
            "1/1 [==============================] - 0s 9ms/step - loss: 11.9997 - mae: 11.9997\n",
            "Epoch 9/100\n",
            "1/1 [==============================] - 0s 12ms/step - loss: 11.7916 - mae: 11.7916\n",
            "Epoch 10/100\n",
            "1/1 [==============================] - 0s 10ms/step - loss: 11.5729 - mae: 11.5729\n",
            "Epoch 11/100\n",
            "1/1 [==============================] - 0s 10ms/step - loss: 11.3442 - mae: 11.3442\n",
            "Epoch 12/100\n",
            "1/1 [==============================] - 0s 10ms/step - loss: 11.1044 - mae: 11.1044\n",
            "Epoch 13/100\n",
            "1/1 [==============================] - 0s 10ms/step - loss: 10.8512 - mae: 10.8512\n",
            "Epoch 14/100\n",
            "1/1 [==============================] - 0s 10ms/step - loss: 10.5891 - mae: 10.5891\n",
            "Epoch 15/100\n",
            "1/1 [==============================] - 0s 10ms/step - loss: 10.3747 - mae: 10.3747\n",
            "Epoch 16/100\n",
            "1/1 [==============================] - 0s 11ms/step - loss: 10.1496 - mae: 10.1496\n",
            "Epoch 17/100\n",
            "1/1 [==============================] - 0s 11ms/step - loss: 9.9155 - mae: 9.9155\n",
            "Epoch 18/100\n",
            "1/1 [==============================] - 0s 11ms/step - loss: 9.6683 - mae: 9.6683\n",
            "Epoch 19/100\n",
            "1/1 [==============================] - 0s 11ms/step - loss: 9.4129 - mae: 9.4129\n",
            "Epoch 20/100\n",
            "1/1 [==============================] - 0s 12ms/step - loss: 9.1420 - mae: 9.1420\n",
            "Epoch 21/100\n",
            "1/1 [==============================] - 0s 10ms/step - loss: 8.8531 - mae: 8.8531\n",
            "Epoch 22/100\n",
            "1/1 [==============================] - 0s 10ms/step - loss: 8.5455 - mae: 8.5455\n",
            "Epoch 23/100\n",
            "1/1 [==============================] - 0s 10ms/step - loss: 8.2217 - mae: 8.2217\n",
            "Epoch 24/100\n",
            "1/1 [==============================] - 0s 10ms/step - loss: 7.8776 - mae: 7.8776\n",
            "Epoch 25/100\n",
            "1/1 [==============================] - 0s 10ms/step - loss: 7.5131 - mae: 7.5131\n",
            "Epoch 26/100\n",
            "1/1 [==============================] - 0s 11ms/step - loss: 7.1258 - mae: 7.1258\n",
            "Epoch 27/100\n",
            "1/1 [==============================] - 0s 10ms/step - loss: 6.7173 - mae: 6.7173\n",
            "Epoch 28/100\n",
            "1/1 [==============================] - 0s 11ms/step - loss: 6.2861 - mae: 6.2861\n",
            "Epoch 29/100\n",
            "1/1 [==============================] - 0s 10ms/step - loss: 5.8282 - mae: 5.8282\n",
            "Epoch 30/100\n",
            "1/1 [==============================] - 0s 12ms/step - loss: 5.3404 - mae: 5.3404\n",
            "Epoch 31/100\n",
            "1/1 [==============================] - 0s 11ms/step - loss: 4.8242 - mae: 4.8242\n",
            "Epoch 32/100\n",
            "1/1 [==============================] - 0s 15ms/step - loss: 4.2766 - mae: 4.2766\n",
            "Epoch 33/100\n",
            "1/1 [==============================] - 0s 12ms/step - loss: 4.0011 - mae: 4.0011\n",
            "Epoch 34/100\n",
            "1/1 [==============================] - 0s 10ms/step - loss: 3.8672 - mae: 3.8672\n",
            "Epoch 35/100\n",
            "1/1 [==============================] - 0s 12ms/step - loss: 3.9805 - mae: 3.9805\n",
            "Epoch 36/100\n",
            "1/1 [==============================] - 0s 11ms/step - loss: 4.0793 - mae: 4.0793\n",
            "Epoch 37/100\n",
            "1/1 [==============================] - 0s 11ms/step - loss: 4.1634 - mae: 4.1634\n",
            "Epoch 38/100\n",
            "1/1 [==============================] - 0s 12ms/step - loss: 4.3259 - mae: 4.3259\n",
            "Epoch 39/100\n",
            "1/1 [==============================] - 0s 11ms/step - loss: 4.4589 - mae: 4.4589\n",
            "Epoch 40/100\n",
            "1/1 [==============================] - 0s 11ms/step - loss: 4.5250 - mae: 4.5250\n",
            "Epoch 41/100\n",
            "1/1 [==============================] - 0s 11ms/step - loss: 4.5310 - mae: 4.5310\n",
            "Epoch 42/100\n",
            "1/1 [==============================] - 0s 9ms/step - loss: 4.4855 - mae: 4.4855\n",
            "Epoch 43/100\n",
            "1/1 [==============================] - 0s 11ms/step - loss: 4.3963 - mae: 4.3963\n",
            "Epoch 44/100\n",
            "1/1 [==============================] - 0s 14ms/step - loss: 4.2710 - mae: 4.2710\n",
            "Epoch 45/100\n",
            "1/1 [==============================] - 0s 9ms/step - loss: 4.1148 - mae: 4.1148\n",
            "Epoch 46/100\n",
            "1/1 [==============================] - 0s 12ms/step - loss: 4.0375 - mae: 4.0375\n",
            "Epoch 47/100\n",
            "1/1 [==============================] - 0s 14ms/step - loss: 3.9662 - mae: 3.9662\n",
            "Epoch 48/100\n",
            "1/1 [==============================] - 0s 10ms/step - loss: 3.8963 - mae: 3.8963\n",
            "Epoch 49/100\n",
            "1/1 [==============================] - 0s 16ms/step - loss: 3.8281 - mae: 3.8281\n",
            "Epoch 50/100\n",
            "1/1 [==============================] - 0s 14ms/step - loss: 3.7623 - mae: 3.7623\n",
            "Epoch 51/100\n",
            "1/1 [==============================] - 0s 11ms/step - loss: 3.6979 - mae: 3.6979\n",
            "Epoch 52/100\n",
            "1/1 [==============================] - 0s 12ms/step - loss: 3.7457 - mae: 3.7457\n",
            "Epoch 53/100\n",
            "1/1 [==============================] - 0s 11ms/step - loss: 3.7931 - mae: 3.7931\n",
            "Epoch 54/100\n",
            "1/1 [==============================] - 0s 11ms/step - loss: 3.8237 - mae: 3.8237\n",
            "Epoch 55/100\n",
            "1/1 [==============================] - 0s 11ms/step - loss: 3.8412 - mae: 3.8412\n",
            "Epoch 56/100\n",
            "1/1 [==============================] - 0s 11ms/step - loss: 3.8674 - mae: 3.8674\n",
            "Epoch 57/100\n",
            "1/1 [==============================] - 0s 11ms/step - loss: 3.8624 - mae: 3.8624\n",
            "Epoch 58/100\n",
            "1/1 [==============================] - 0s 11ms/step - loss: 3.8340 - mae: 3.8340\n",
            "Epoch 59/100\n",
            "1/1 [==============================] - 0s 11ms/step - loss: 3.8128 - mae: 3.8128\n",
            "Epoch 60/100\n",
            "1/1 [==============================] - 0s 11ms/step - loss: 3.7824 - mae: 3.7824\n",
            "Epoch 61/100\n",
            "1/1 [==============================] - 0s 11ms/step - loss: 3.7432 - mae: 3.7432\n",
            "Epoch 62/100\n",
            "1/1 [==============================] - 0s 12ms/step - loss: 3.6952 - mae: 3.6952\n",
            "Epoch 63/100\n",
            "1/1 [==============================] - 0s 22ms/step - loss: 3.6372 - mae: 3.6372\n",
            "Epoch 64/100\n",
            "1/1 [==============================] - 0s 11ms/step - loss: 3.5836 - mae: 3.5836\n",
            "Epoch 65/100\n",
            "1/1 [==============================] - 0s 10ms/step - loss: 3.6038 - mae: 3.6038\n",
            "Epoch 66/100\n",
            "1/1 [==============================] - 0s 15ms/step - loss: 3.6142 - mae: 3.6142\n",
            "Epoch 67/100\n",
            "1/1 [==============================] - 0s 9ms/step - loss: 3.6160 - mae: 3.6160\n",
            "Epoch 68/100\n",
            "1/1 [==============================] - 0s 10ms/step - loss: 3.6079 - mae: 3.6079\n",
            "Epoch 69/100\n",
            "1/1 [==============================] - 0s 12ms/step - loss: 3.5917 - mae: 3.5917\n",
            "Epoch 70/100\n",
            "1/1 [==============================] - 0s 11ms/step - loss: 3.5698 - mae: 3.5698\n",
            "Epoch 71/100\n",
            "1/1 [==============================] - 0s 12ms/step - loss: 3.5472 - mae: 3.5472\n",
            "Epoch 72/100\n",
            "1/1 [==============================] - 0s 10ms/step - loss: 3.5184 - mae: 3.5184\n",
            "Epoch 73/100\n",
            "1/1 [==============================] - 0s 9ms/step - loss: 3.4912 - mae: 3.4912\n",
            "Epoch 74/100\n",
            "1/1 [==============================] - 0s 10ms/step - loss: 3.4731 - mae: 3.4731\n",
            "Epoch 75/100\n",
            "1/1 [==============================] - 0s 11ms/step - loss: 3.4729 - mae: 3.4729\n",
            "Epoch 76/100\n",
            "1/1 [==============================] - 0s 12ms/step - loss: 3.4572 - mae: 3.4572\n",
            "Epoch 77/100\n",
            "1/1 [==============================] - 0s 10ms/step - loss: 3.4268 - mae: 3.4268\n",
            "Epoch 78/100\n",
            "1/1 [==============================] - 0s 11ms/step - loss: 3.4231 - mae: 3.4231\n",
            "Epoch 79/100\n",
            "1/1 [==============================] - 0s 11ms/step - loss: 3.4202 - mae: 3.4202\n",
            "Epoch 80/100\n",
            "1/1 [==============================] - 0s 13ms/step - loss: 3.4100 - mae: 3.4100\n",
            "Epoch 81/100\n",
            "1/1 [==============================] - 0s 11ms/step - loss: 3.3917 - mae: 3.3917\n",
            "Epoch 82/100\n",
            "1/1 [==============================] - 0s 11ms/step - loss: 3.3686 - mae: 3.3686\n",
            "Epoch 83/100\n",
            "1/1 [==============================] - 0s 13ms/step - loss: 3.3420 - mae: 3.3420\n",
            "Epoch 84/100\n",
            "1/1 [==============================] - 0s 12ms/step - loss: 3.3212 - mae: 3.3212\n",
            "Epoch 85/100\n",
            "1/1 [==============================] - 0s 10ms/step - loss: 3.3103 - mae: 3.3103\n",
            "Epoch 86/100\n",
            "1/1 [==============================] - 0s 14ms/step - loss: 3.2826 - mae: 3.2826\n",
            "Epoch 87/100\n",
            "1/1 [==============================] - 0s 11ms/step - loss: 3.2656 - mae: 3.2656\n",
            "Epoch 88/100\n",
            "1/1 [==============================] - 0s 12ms/step - loss: 3.2587 - mae: 3.2587\n",
            "Epoch 89/100\n",
            "1/1 [==============================] - 0s 12ms/step - loss: 3.2323 - mae: 3.2323\n",
            "Epoch 90/100\n",
            "1/1 [==============================] - 0s 12ms/step - loss: 3.2277 - mae: 3.2277\n",
            "Epoch 91/100\n",
            "1/1 [==============================] - 0s 11ms/step - loss: 3.2141 - mae: 3.2141\n",
            "Epoch 92/100\n",
            "1/1 [==============================] - 0s 11ms/step - loss: 3.1960 - mae: 3.1960\n",
            "Epoch 93/100\n",
            "1/1 [==============================] - 0s 11ms/step - loss: 3.1687 - mae: 3.1687\n",
            "Epoch 94/100\n",
            "1/1 [==============================] - 0s 9ms/step - loss: 3.1340 - mae: 3.1340\n",
            "Epoch 95/100\n",
            "1/1 [==============================] - 0s 10ms/step - loss: 3.1221 - mae: 3.1221\n",
            "Epoch 96/100\n",
            "1/1 [==============================] - 0s 11ms/step - loss: 3.1250 - mae: 3.1250\n",
            "Epoch 97/100\n",
            "1/1 [==============================] - 0s 10ms/step - loss: 3.0691 - mae: 3.0691\n",
            "Epoch 98/100\n",
            "1/1 [==============================] - 0s 12ms/step - loss: 3.0507 - mae: 3.0507\n",
            "Epoch 99/100\n",
            "1/1 [==============================] - 0s 11ms/step - loss: 3.0408 - mae: 3.0408\n",
            "Epoch 100/100\n",
            "1/1 [==============================] - 0s 11ms/step - loss: 3.0214 - mae: 3.0214\n"
          ]
        },
        {
          "output_type": "execute_result",
          "data": {
            "text/plain": [
              "<keras.callbacks.History at 0x7f29e5a13940>"
            ]
          },
          "metadata": {},
          "execution_count": 14
        }
      ]
    },
    {
      "cell_type": "code",
      "source": [
        "model.predict([17.0])"
      ],
      "metadata": {
        "colab": {
          "base_uri": "https://localhost:8080/"
        },
        "id": "gHdsOZn8Tu35",
        "outputId": "4328c575-8a07-4cf9-a20b-70fb1382669a"
      },
      "execution_count": null,
      "outputs": [
        {
          "output_type": "stream",
          "name": "stdout",
          "text": [
            "1/1 [==============================] - 0s 69ms/step\n"
          ]
        },
        {
          "output_type": "execute_result",
          "data": {
            "text/plain": [
              "array([[31.396612]], dtype=float32)"
            ]
          },
          "metadata": {},
          "execution_count": 15
        }
      ]
    },
    {
      "cell_type": "code",
      "source": [
        "X=tf.range(-100,100,4)\n",
        "X"
      ],
      "metadata": {
        "colab": {
          "base_uri": "https://localhost:8080/"
        },
        "id": "GNoLOKaZYKZN",
        "outputId": "d01f1115-eeb2-442e-a53a-b7a09fe42c8f"
      },
      "execution_count": null,
      "outputs": [
        {
          "output_type": "execute_result",
          "data": {
            "text/plain": [
              "<tf.Tensor: shape=(50,), dtype=int32, numpy=\n",
              "array([-100,  -96,  -92,  -88,  -84,  -80,  -76,  -72,  -68,  -64,  -60,\n",
              "        -56,  -52,  -48,  -44,  -40,  -36,  -32,  -28,  -24,  -20,  -16,\n",
              "        -12,   -8,   -4,    0,    4,    8,   12,   16,   20,   24,   28,\n",
              "         32,   36,   40,   44,   48,   52,   56,   60,   64,   68,   72,\n",
              "         76,   80,   84,   88,   92,   96], dtype=int32)>"
            ]
          },
          "metadata": {},
          "execution_count": 16
        }
      ]
    },
    {
      "cell_type": "code",
      "source": [
        "Y=X+10\n",
        "Y"
      ],
      "metadata": {
        "colab": {
          "base_uri": "https://localhost:8080/"
        },
        "id": "MiiGgOIgdmSQ",
        "outputId": "062bfe81-574c-4b5e-c9d9-e9c627e68865"
      },
      "execution_count": null,
      "outputs": [
        {
          "output_type": "execute_result",
          "data": {
            "text/plain": [
              "<tf.Tensor: shape=(50,), dtype=int32, numpy=\n",
              "array([-90, -86, -82, -78, -74, -70, -66, -62, -58, -54, -50, -46, -42,\n",
              "       -38, -34, -30, -26, -22, -18, -14, -10,  -6,  -2,   2,   6,  10,\n",
              "        14,  18,  22,  26,  30,  34,  38,  42,  46,  50,  54,  58,  62,\n",
              "        66,  70,  74,  78,  82,  86,  90,  94,  98, 102, 106], dtype=int32)>"
            ]
          },
          "metadata": {},
          "execution_count": 17
        }
      ]
    },
    {
      "cell_type": "code",
      "source": [
        "import matplotlib.pyplot as plt\n",
        "plt.scatter(X,Y)"
      ],
      "metadata": {
        "colab": {
          "base_uri": "https://localhost:8080/",
          "height": 282
        },
        "id": "rZ5NPB4Ed5rF",
        "outputId": "f4ad634b-0663-4b85-e218-e820d2837828"
      },
      "execution_count": null,
      "outputs": [
        {
          "output_type": "execute_result",
          "data": {
            "text/plain": [
              "<matplotlib.collections.PathCollection at 0x7f29e4625fd0>"
            ]
          },
          "metadata": {},
          "execution_count": 18
        },
        {
          "output_type": "display_data",
          "data": {
            "text/plain": [
              "<Figure size 432x288 with 1 Axes>"
            ],
            "image/png": "[encoded data removed]"
          },
          "metadata": {
            "needs_background": "light"
          }
        }
      ]
    },
    {
      "cell_type": "code",
      "source": [
        "X_train= X[:40]\n",
        "Y_train= Y[:40]\n",
        "\n",
        "X_test= X[40:]\n",
        "Y_test= Y[40:]"
      ],
      "metadata": {
        "id": "ukH-pY0geBRU"
      },
      "execution_count": null,
      "outputs": []
    },
    {
      "cell_type": "code",
      "source": [
        "len(X_train),len(X_test),len(Y_train),len(Y_test)"
      ],
      "metadata": {
        "colab": {
          "base_uri": "https://localhost:8080/"
        },
        "id": "hEdC39iQfehg",
        "outputId": "b2e106d1-8bd2-4231-c491-b93e0ced5992"
      },
      "execution_count": null,
      "outputs": [
        {
          "output_type": "execute_result",
          "data": {
            "text/plain": [
              "(40, 10, 40, 10)"
            ]
          },
          "metadata": {},
          "execution_count": 20
        }
      ]
    },
    {
      "cell_type": "code",
      "source": [
        "#@title Doubt\n",
        "plt.figure(figsize=(10,7))\n",
        "plt.scatter(X_train, Y_train,c=\"b\",label=\"Training data\")\n",
        "plt.scatter(X_test, Y_test, c=\"g\",label=\"Testing data\")\n",
        "plt.legend();"
      ],
      "metadata": {
        "id": "-rFZmy_Ef0fo",
        "colab": {
          "base_uri": "https://localhost:8080/",
          "height": 428
        },
        "outputId": "e56ebba1-5820-45b8-a73a-2c1738d790ac"
      },
      "execution_count": null,
      "outputs": [
        {
          "output_type": "display_data",
          "data": {
            "text/plain": [
              "<Figure size 720x504 with 1 Axes>"
            ],
            "image/png": "[encoded data removed]"
          },
          "metadata": {
            "needs_background": "light"
          }
        }
      ]
    },
    {
      "cell_type": "code",
      "source": [
        "# Let's create a model which builds automatically by defining the input_shape argument in the first layer\n",
        "tf.random.set_seed(42)\n",
        "\n",
        "# 1. Create a model (same as above)\n",
        "model = tf.keras.Sequential([\n",
        "  tf.keras.layers.Dense(10, input_shape=[1], name=\"input_layer\"),\n",
        "  tf.keras.layers.Dense(1, name=\"output_layer\")\n",
        "], name=\"model_1\")\n",
        "\n",
        "# 2. Compile the model (same as above)\n",
        "model.compile(loss=tf.keras.losses.mae,\n",
        "              optimizer=tf.keras.optimizers.SGD(),\n",
        "              metrics=[\"mae\"])"
      ],
      "metadata": {
        "id": "2rbn-_Uh7Il_"
      },
      "execution_count": null,
      "outputs": []
    },
    {
      "cell_type": "code",
      "source": [
        "model.summary()"
      ],
      "metadata": {
        "colab": {
          "base_uri": "https://localhost:8080/"
        },
        "id": "h7JPxY2w7JWo",
        "outputId": "c4b12e78-6015-4d14-a86b-9c9843e8a580"
      },
      "execution_count": null,
      "outputs": [
        {
          "output_type": "stream",
          "name": "stdout",
          "text": [
            "Model: \"model_1\"\n",
            "_________________________________________________________________\n",
            " Layer (type)                Output Shape              Param #   \n",
            "=================================================================\n",
            " input_layer (Dense)         (None, 10)                20        \n",
            "                                                                 \n",
            " output_layer (Dense)        (None, 1)                 11        \n",
            "                                                                 \n",
            "=================================================================\n",
            "Total params: 31\n",
            "Trainable params: 31\n",
            "Non-trainable params: 0\n",
            "_________________________________________________________________\n"
          ]
        }
      ]
    },
    {
      "cell_type": "code",
      "source": [
        "model.fit(X_train, Y_train, epochs=100, verbose=0)\n",
        ""
      ],
      "metadata": {
        "colab": {
          "base_uri": "https://localhost:8080/"
        },
        "id": "nnBl6z6F7L4D",
        "outputId": "3353690a-5c4a-4e5c-bbbf-af0e05c3cbf8"
      },
      "execution_count": null,
      "outputs": [
        {
          "output_type": "execute_result",
          "data": {
            "text/plain": [
              "<keras.callbacks.History at 0x7f29e4535760>"
            ]
          },
          "metadata": {},
          "execution_count": 24
        }
      ]
    },
    {
      "cell_type": "code",
      "source": [
        "model.summary()"
      ],
      "metadata": {
        "colab": {
          "base_uri": "https://localhost:8080/"
        },
        "id": "TL5GuqKP7Pdl",
        "outputId": "b3c38dd9-4496-4c7a-adad-3ca61b3516ff"
      },
      "execution_count": null,
      "outputs": [
        {
          "output_type": "stream",
          "name": "stdout",
          "text": [
            "Model: \"model_1\"\n",
            "_________________________________________________________________\n",
            " Layer (type)                Output Shape              Param #   \n",
            "=================================================================\n",
            " input_layer (Dense)         (None, 10)                20        \n",
            "                                                                 \n",
            " output_layer (Dense)        (None, 1)                 11        \n",
            "                                                                 \n",
            "=================================================================\n",
            "Total params: 31\n",
            "Trainable params: 31\n",
            "Non-trainable params: 0\n",
            "_________________________________________________________________\n"
          ]
        }
      ]
    },
    {
      "cell_type": "code",
      "source": [
        "#@title Doubt (model=model) Documentation\n",
        "from tensorflow.keras.utils import plot_model\n",
        "\n",
        "plot_model(model=model, show_shapes=True)"
      ],
      "metadata": {
        "colab": {
          "base_uri": "https://localhost:8080/",
          "height": 312
        },
        "id": "eDIz_w0M7XX9",
        "outputId": "0a72b0e8-30d4-4a89-a214-e11f1cedde94"
      },
      "execution_count": null,
      "outputs": [
        {
          "output_type": "execute_result",
          "data": {
            "image/png": "[encoded data removed]",
            "text/plain": [
              "<IPython.core.display.Image object>"
            ]
          },
          "metadata": {},
          "execution_count": 26
        }
      ]
    },
    {
      "cell_type": "code",
      "source": [
        "y_pred = model.predict(X_test)\n",
        "y_pred"
      ],
      "metadata": {
        "colab": {
          "base_uri": "https://localhost:8080/"
        },
        "id": "FnOCk4197dyy",
        "outputId": "32a96c8a-3e2d-4f55-b5eb-538886f5ac4b"
      },
      "execution_count": null,
      "outputs": [
        {
          "output_type": "stream",
          "name": "stdout",
          "text": [
            "1/1 [==============================] - 0s 48ms/step\n"
          ]
        },
        {
          "output_type": "execute_result",
          "data": {
            "text/plain": [
              "array([[ 78.31083 ],\n",
              "       [ 83.4147  ],\n",
              "       [ 88.518585],\n",
              "       [ 93.62247 ],\n",
              "       [ 98.72635 ],\n",
              "       [103.83023 ],\n",
              "       [108.934105],\n",
              "       [114.03799 ],\n",
              "       [119.14187 ],\n",
              "       [124.24574 ]], dtype=float32)"
            ]
          },
          "metadata": {},
          "execution_count": 27
        }
      ]
    },
    {
      "cell_type": "code",
      "source": [
        "Y_test"
      ],
      "metadata": {
        "colab": {
          "base_uri": "https://localhost:8080/"
        },
        "id": "6B2rJ16v7kaf",
        "outputId": "599f2586-058e-438e-99c1-38b9a7ecbbd5"
      },
      "execution_count": null,
      "outputs": [
        {
          "output_type": "execute_result",
          "data": {
            "text/plain": [
              "<tf.Tensor: shape=(10,), dtype=int32, numpy=array([ 70,  74,  78,  82,  86,  90,  94,  98, 102, 106], dtype=int32)>"
            ]
          },
          "metadata": {},
          "execution_count": 28
        }
      ]
    },
    {
      "cell_type": "code",
      "source": [
        "# Let's create a plotting function\n",
        "def plot_predictions(train_data=X_train,\n",
        "                     train_labels=Y_train,\n",
        "                     test_data=X_test,\n",
        "                     test_labels=Y_test,\n",
        "                     predictions=y_pred):\n",
        "  \"\"\"\n",
        "  Plots training data, test data and compares predictions to ground truth labels.\n",
        "  \"\"\"\n",
        "  plt.figure(figsize=(10, 7))\n",
        "  # Plot training data in blue\n",
        "  plt.scatter(train_data, train_labels, c=\"b\", label=\"Training data\")\n",
        "  # Plot testing data in green\n",
        "  plt.scatter(test_data, test_labels, c=\"g\", label=\"Testing data\")\n",
        "  # Plot model's predictions in red\n",
        "  plt.scatter(test_data, predictions, c=\"r\", label=\"Predictions\")\n",
        "  # Show the legend\n",
        "  plt.legend();"
      ],
      "metadata": {
        "id": "a1ZDIv-K7sW0"
      },
      "execution_count": null,
      "outputs": []
    },
    {
      "cell_type": "code",
      "source": [
        "plot_predictions()"
      ],
      "metadata": {
        "colab": {
          "base_uri": "https://localhost:8080/",
          "height": 428
        },
        "id": "xmPP35Vx9AII",
        "outputId": "c698e06f-33e8-4cc6-fa59-536fd6a9e4f9"
      },
      "execution_count": null,
      "outputs": [
        {
          "output_type": "display_data",
          "data": {
            "text/plain": [
              "<Figure size 720x504 with 1 Axes>"
            ],
            "image/png": "[encoded data removed]"
          },
          "metadata": {
            "needs_background": "light"
          }
        }
      ]
    },
    {
      "cell_type": "code",
      "source": [
        "model.evaluate(X_test, Y_test)"
      ],
      "metadata": {
        "colab": {
          "base_uri": "https://localhost:8080/"
        },
        "id": "8Db29Yvl9INq",
        "outputId": "53d6ff4f-57de-40e0-a050-b57474094c52"
      },
      "execution_count": null,
      "outputs": [
        {
          "output_type": "stream",
          "name": "stdout",
          "text": [
            "1/1 [==============================] - 0s 136ms/step - loss: 13.2783 - mae: 13.2783\n"
          ]
        },
        {
          "output_type": "execute_result",
          "data": {
            "text/plain": [
              "[13.278286933898926, 13.278286933898926]"
            ]
          },
          "metadata": {},
          "execution_count": 31
        }
      ]
    },
    {
      "cell_type": "code",
      "source": [
        "#@title why tf.constant; related to shapes\n",
        "mae = tf.metrics.mean_absolute_error(y_true=Y_test,\n",
        "                                     y_pred=tf.squeeze(y_pred))\n",
        "mae"
      ],
      "metadata": {
        "colab": {
          "base_uri": "https://localhost:8080/"
        },
        "id": "5hmb7-Fu9guA",
        "outputId": "35b48ff3-b8cc-4014-d056-c87124b10ba8"
      },
      "execution_count": null,
      "outputs": [
        {
          "output_type": "execute_result",
          "data": {
            "text/plain": [
              "<tf.Tensor: shape=(), dtype=float32, numpy=13.278287>"
            ]
          },
          "metadata": {},
          "execution_count": 32
        }
      ]
    },
    {
      "cell_type": "code",
      "source": [
        "tf.constant(y_pred)"
      ],
      "metadata": {
        "colab": {
          "base_uri": "https://localhost:8080/"
        },
        "id": "DduHMRmT9s2_",
        "outputId": "61d2bc2c-914c-4a57-c8b7-3ae0584c2e2b"
      },
      "execution_count": null,
      "outputs": [
        {
          "output_type": "execute_result",
          "data": {
            "text/plain": [
              "<tf.Tensor: shape=(10, 1), dtype=float32, numpy=\n",
              "array([[ 78.31083 ],\n",
              "       [ 83.4147  ],\n",
              "       [ 88.518585],\n",
              "       [ 93.62247 ],\n",
              "       [ 98.72635 ],\n",
              "       [103.83023 ],\n",
              "       [108.934105],\n",
              "       [114.03799 ],\n",
              "       [119.14187 ],\n",
              "       [124.24574 ]], dtype=float32)>"
            ]
          },
          "metadata": {},
          "execution_count": 33
        }
      ]
    },
    {
      "cell_type": "code",
      "source": [
        "tf.squeeze(y_pred)"
      ],
      "metadata": {
        "colab": {
          "base_uri": "https://localhost:8080/"
        },
        "id": "ZWmNj2PP-zqp",
        "outputId": "f12b1b92-2505-4a46-e920-91fef9f0ed8f"
      },
      "execution_count": null,
      "outputs": [
        {
          "output_type": "execute_result",
          "data": {
            "text/plain": [
              "<tf.Tensor: shape=(10,), dtype=float32, numpy=\n",
              "array([ 78.31083 ,  83.4147  ,  88.518585,  93.62247 ,  98.72635 ,\n",
              "       103.83023 , 108.934105, 114.03799 , 119.14187 , 124.24574 ],\n",
              "      dtype=float32)>"
            ]
          },
          "metadata": {},
          "execution_count": 34
        }
      ]
    },
    {
      "cell_type": "code",
      "source": [
        "#@title Generally mse > mae?\n",
        "mse = tf.metrics.mean_squared_error(y_true=Y_test,\n",
        "                                    y_pred=tf.squeeze(y_pred))\n",
        "mse"
      ],
      "metadata": {
        "colab": {
          "base_uri": "https://localhost:8080/"
        },
        "id": "jSRwypML-RdX",
        "outputId": "ac1d80d3-753b-4c2a-f980-c09b5594296c"
      },
      "execution_count": null,
      "outputs": [
        {
          "output_type": "execute_result",
          "data": {
            "text/plain": [
              "<tf.Tensor: shape=(), dtype=float32, numpy=186.36594>"
            ]
          },
          "metadata": {},
          "execution_count": 35
        }
      ]
    },
    {
      "cell_type": "code",
      "source": [
        "def mae(y_true,y_pred):\n",
        " return tf.metrics.mean_absolute_error(y_true=y_true,\n",
        "       y_pred=tf.squeeze(y_pred))\n",
        "\n",
        "def mse(y_true,y_pred):\n",
        " return tf.metrics.mean_squared_error(y_true=y_true,\n",
        "       y_pred=tf.squeeze(y_pred))"
      ],
      "metadata": {
        "id": "BOA4lq2x-xlB"
      },
      "execution_count": null,
      "outputs": []
    },
    {
      "cell_type": "code",
      "source": [
        "X_train , Y_train"
      ],
      "metadata": {
        "colab": {
          "base_uri": "https://localhost:8080/"
        },
        "id": "Fq1qhCs0AiYS",
        "outputId": "69ec8ab4-eb46-4d3a-9ae1-2e31b55d4383"
      },
      "execution_count": null,
      "outputs": [
        {
          "output_type": "execute_result",
          "data": {
            "text/plain": [
              "(<tf.Tensor: shape=(40,), dtype=int32, numpy=\n",
              " array([-100,  -96,  -92,  -88,  -84,  -80,  -76,  -72,  -68,  -64,  -60,\n",
              "         -56,  -52,  -48,  -44,  -40,  -36,  -32,  -28,  -24,  -20,  -16,\n",
              "         -12,   -8,   -4,    0,    4,    8,   12,   16,   20,   24,   28,\n",
              "          32,   36,   40,   44,   48,   52,   56], dtype=int32)>,\n",
              " <tf.Tensor: shape=(40,), dtype=int32, numpy=\n",
              " array([-90, -86, -82, -78, -74, -70, -66, -62, -58, -54, -50, -46, -42,\n",
              "        -38, -34, -30, -26, -22, -18, -14, -10,  -6,  -2,   2,   6,  10,\n",
              "         14,  18,  22,  26,  30,  34,  38,  42,  46,  50,  54,  58,  62,\n",
              "         66], dtype=int32)>)"
            ]
          },
          "metadata": {},
          "execution_count": 37
        }
      ]
    },
    {
      "cell_type": "code",
      "source": [
        "tf.random.set_seed(42)\n",
        "\n",
        "m1=tf.keras.Sequential([\n",
        "    tf.keras.layers.Dense(1)\n",
        "])\n",
        "\n",
        "m1.compile(loss=tf.keras.losses.mae,\n",
        "           optimizer=tf.keras.optimizers.SGD(),\n",
        "           metrics=[\"mae\"])\n",
        "\n",
        "m1.fit(tf.expand_dims(X_train,axis=-1), Y_train, epochs=100)\n"
      ],
      "metadata": {
        "colab": {
          "base_uri": "https://localhost:8080/"
        },
        "id": "tiPnm43ZBfek",
        "outputId": "a8b0d42a-7419-49a1-88e7-1bb11ba084ae"
      },
      "execution_count": null,
      "outputs": [
        {
          "output_type": "stream",
          "name": "stdout",
          "text": [
            "Epoch 1/100\n",
            "2/2 [==============================] - 0s 12ms/step - loss: 12.7445 - mae: 12.7445\n",
            "Epoch 2/100\n",
            "2/2 [==============================] - 0s 7ms/step - loss: 9.3665 - mae: 9.3665\n",
            "Epoch 3/100\n",
            "2/2 [==============================] - 0s 10ms/step - loss: 11.7787 - mae: 11.7787\n",
            "Epoch 4/100\n",
            "2/2 [==============================] - 0s 7ms/step - loss: 9.2810 - mae: 9.2810\n",
            "Epoch 5/100\n",
            "2/2 [==============================] - 0s 7ms/step - loss: 10.1472 - mae: 10.1472\n",
            "Epoch 6/100\n",
            "2/2 [==============================] - 0s 6ms/step - loss: 9.4120 - mae: 9.4120\n",
            "Epoch 7/100\n",
            "2/2 [==============================] - 0s 7ms/step - loss: 8.5549 - mae: 8.5549\n",
            "Epoch 8/100\n",
            "2/2 [==============================] - 0s 6ms/step - loss: 9.0412 - mae: 9.0412\n",
            "Epoch 9/100\n",
            "2/2 [==============================] - 0s 7ms/step - loss: 18.7161 - mae: 18.7161\n",
            "Epoch 10/100\n",
            "2/2 [==============================] - 0s 7ms/step - loss: 10.0932 - mae: 10.0932\n",
            "Epoch 11/100\n",
            "2/2 [==============================] - 0s 6ms/step - loss: 8.3888 - mae: 8.3888\n",
            "Epoch 12/100\n",
            "2/2 [==============================] - 0s 7ms/step - loss: 10.6467 - mae: 10.6467\n",
            "Epoch 13/100\n",
            "2/2 [==============================] - 0s 8ms/step - loss: 9.7898 - mae: 9.7898\n",
            "Epoch 14/100\n",
            "2/2 [==============================] - 0s 7ms/step - loss: 15.9726 - mae: 15.9726\n",
            "Epoch 15/100\n",
            "2/2 [==============================] - 0s 7ms/step - loss: 11.4342 - mae: 11.4342\n",
            "Epoch 16/100\n",
            "2/2 [==============================] - 0s 8ms/step - loss: 8.5291 - mae: 8.5291\n",
            "Epoch 17/100\n",
            "2/2 [==============================] - 0s 7ms/step - loss: 13.6131 - mae: 13.6131\n",
            "Epoch 18/100\n",
            "2/2 [==============================] - 0s 7ms/step - loss: 11.4363 - mae: 11.4363\n",
            "Epoch 19/100\n",
            "2/2 [==============================] - 0s 9ms/step - loss: 17.9435 - mae: 17.9435\n",
            "Epoch 20/100\n",
            "2/2 [==============================] - 0s 8ms/step - loss: 15.0779 - mae: 15.0779\n",
            "Epoch 21/100\n",
            "2/2 [==============================] - 0s 7ms/step - loss: 11.0448 - mae: 11.0448\n",
            "Epoch 22/100\n",
            "2/2 [==============================] - 0s 7ms/step - loss: 8.1767 - mae: 8.1767\n",
            "Epoch 23/100\n",
            "2/2 [==============================] - 0s 6ms/step - loss: 9.4955 - mae: 9.4955\n",
            "Epoch 24/100\n",
            "2/2 [==============================] - 0s 7ms/step - loss: 7.6652 - mae: 7.6652\n",
            "Epoch 25/100\n",
            "2/2 [==============================] - 0s 8ms/step - loss: 13.1468 - mae: 13.1468\n",
            "Epoch 26/100\n",
            "2/2 [==============================] - 0s 7ms/step - loss: 16.4491 - mae: 16.4491\n",
            "Epoch 27/100\n",
            "2/2 [==============================] - 0s 7ms/step - loss: 13.1889 - mae: 13.1889\n",
            "Epoch 28/100\n",
            "2/2 [==============================] - 0s 7ms/step - loss: 14.2856 - mae: 14.2856\n",
            "Epoch 29/100\n",
            "2/2 [==============================] - 0s 7ms/step - loss: 10.0741 - mae: 10.0741\n",
            "Epoch 30/100\n",
            "2/2 [==============================] - 0s 7ms/step - loss: 16.3861 - mae: 16.3861\n",
            "Epoch 31/100\n",
            "2/2 [==============================] - 0s 7ms/step - loss: 23.6020 - mae: 23.6020\n",
            "Epoch 32/100\n",
            "2/2 [==============================] - 0s 7ms/step - loss: 7.6133 - mae: 7.6133\n",
            "Epoch 33/100\n",
            "2/2 [==============================] - 0s 7ms/step - loss: 9.3117 - mae: 9.3117\n",
            "Epoch 34/100\n",
            "2/2 [==============================] - 0s 6ms/step - loss: 13.6992 - mae: 13.6992\n",
            "Epoch 35/100\n",
            "2/2 [==============================] - 0s 7ms/step - loss: 11.1444 - mae: 11.1444\n",
            "Epoch 36/100\n",
            "2/2 [==============================] - 0s 7ms/step - loss: 13.3569 - mae: 13.3569\n",
            "Epoch 37/100\n",
            "2/2 [==============================] - 0s 8ms/step - loss: 9.4610 - mae: 9.4610\n",
            "Epoch 38/100\n",
            "2/2 [==============================] - 0s 10ms/step - loss: 10.1167 - mae: 10.1167\n",
            "Epoch 39/100\n",
            "2/2 [==============================] - 0s 9ms/step - loss: 10.1963 - mae: 10.1963\n",
            "Epoch 40/100\n",
            "2/2 [==============================] - 0s 7ms/step - loss: 10.9374 - mae: 10.9374\n",
            "Epoch 41/100\n",
            "2/2 [==============================] - 0s 7ms/step - loss: 7.9246 - mae: 7.9246\n",
            "Epoch 42/100\n",
            "2/2 [==============================] - 0s 7ms/step - loss: 10.0731 - mae: 10.0731\n",
            "Epoch 43/100\n",
            "2/2 [==============================] - 0s 7ms/step - loss: 8.6922 - mae: 8.6922\n",
            "Epoch 44/100\n",
            "2/2 [==============================] - 0s 7ms/step - loss: 12.1723 - mae: 12.1723\n",
            "Epoch 45/100\n",
            "2/2 [==============================] - 0s 7ms/step - loss: 13.8264 - mae: 13.8264\n",
            "Epoch 46/100\n",
            "2/2 [==============================] - 0s 8ms/step - loss: 8.4881 - mae: 8.4881\n",
            "Epoch 47/100\n",
            "2/2 [==============================] - 0s 7ms/step - loss: 9.1173 - mae: 9.1173\n",
            "Epoch 48/100\n",
            "2/2 [==============================] - 0s 8ms/step - loss: 10.5962 - mae: 10.5962\n",
            "Epoch 49/100\n",
            "2/2 [==============================] - 0s 7ms/step - loss: 7.7364 - mae: 7.7364\n",
            "Epoch 50/100\n",
            "2/2 [==============================] - 0s 7ms/step - loss: 9.5198 - mae: 9.5198\n",
            "Epoch 51/100\n",
            "2/2 [==============================] - 0s 7ms/step - loss: 9.1526 - mae: 9.1526\n",
            "Epoch 52/100\n",
            "2/2 [==============================] - 0s 7ms/step - loss: 16.3204 - mae: 16.3204\n",
            "Epoch 53/100\n",
            "2/2 [==============================] - 0s 8ms/step - loss: 14.1472 - mae: 14.1472\n",
            "Epoch 54/100\n",
            "2/2 [==============================] - 0s 7ms/step - loss: 21.1708 - mae: 21.1708\n",
            "Epoch 55/100\n",
            "2/2 [==============================] - 0s 7ms/step - loss: 16.3572 - mae: 16.3572\n",
            "Epoch 56/100\n",
            "2/2 [==============================] - 0s 7ms/step - loss: 10.0094 - mae: 10.0094\n",
            "Epoch 57/100\n",
            "2/2 [==============================] - 0s 11ms/step - loss: 9.9415 - mae: 9.9415\n",
            "Epoch 58/100\n",
            "2/2 [==============================] - 0s 7ms/step - loss: 9.2041 - mae: 9.2041\n",
            "Epoch 59/100\n",
            "2/2 [==============================] - 0s 8ms/step - loss: 8.4074 - mae: 8.4074\n",
            "Epoch 60/100\n",
            "2/2 [==============================] - 0s 8ms/step - loss: 9.4736 - mae: 9.4736\n",
            "Epoch 61/100\n",
            "2/2 [==============================] - 0s 9ms/step - loss: 11.4088 - mae: 11.4088\n",
            "Epoch 62/100\n",
            "2/2 [==============================] - 0s 8ms/step - loss: 11.7169 - mae: 11.7169\n",
            "Epoch 63/100\n",
            "2/2 [==============================] - 0s 8ms/step - loss: 7.0733 - mae: 7.0733\n",
            "Epoch 64/100\n",
            "2/2 [==============================] - 0s 7ms/step - loss: 16.9976 - mae: 16.9976\n",
            "Epoch 65/100\n",
            "2/2 [==============================] - 0s 7ms/step - loss: 12.4816 - mae: 12.4816\n",
            "Epoch 66/100\n",
            "2/2 [==============================] - 0s 7ms/step - loss: 13.0474 - mae: 13.0474\n",
            "Epoch 67/100\n",
            "2/2 [==============================] - 0s 8ms/step - loss: 8.0699 - mae: 8.0699\n",
            "Epoch 68/100\n",
            "2/2 [==============================] - 0s 8ms/step - loss: 10.2061 - mae: 10.2061\n",
            "Epoch 69/100\n",
            "2/2 [==============================] - 0s 7ms/step - loss: 12.3943 - mae: 12.3943\n",
            "Epoch 70/100\n",
            "2/2 [==============================] - 0s 8ms/step - loss: 9.0353 - mae: 9.0353\n",
            "Epoch 71/100\n",
            "2/2 [==============================] - 0s 7ms/step - loss: 10.0198 - mae: 10.0198\n",
            "Epoch 72/100\n",
            "2/2 [==============================] - 0s 8ms/step - loss: 10.0376 - mae: 10.0376\n",
            "Epoch 73/100\n",
            "2/2 [==============================] - 0s 8ms/step - loss: 12.5857 - mae: 12.5857\n",
            "Epoch 74/100\n",
            "2/2 [==============================] - 0s 10ms/step - loss: 10.4121 - mae: 10.4121\n",
            "Epoch 75/100\n",
            "2/2 [==============================] - 0s 7ms/step - loss: 9.7069 - mae: 9.7069\n",
            "Epoch 76/100\n",
            "2/2 [==============================] - 0s 7ms/step - loss: 11.2033 - mae: 11.2033\n",
            "Epoch 77/100\n",
            "2/2 [==============================] - 0s 9ms/step - loss: 8.3495 - mae: 8.3495\n",
            "Epoch 78/100\n",
            "2/2 [==============================] - 0s 8ms/step - loss: 9.1008 - mae: 9.1008\n",
            "Epoch 79/100\n",
            "2/2 [==============================] - 0s 7ms/step - loss: 19.5477 - mae: 19.5477\n",
            "Epoch 80/100\n",
            "2/2 [==============================] - 0s 7ms/step - loss: 14.8583 - mae: 14.8583\n",
            "Epoch 81/100\n",
            "2/2 [==============================] - 0s 8ms/step - loss: 9.0379 - mae: 9.0379\n",
            "Epoch 82/100\n",
            "2/2 [==============================] - 0s 7ms/step - loss: 12.9903 - mae: 12.9903\n",
            "Epoch 83/100\n",
            "2/2 [==============================] - 0s 8ms/step - loss: 7.9092 - mae: 7.9092\n",
            "Epoch 84/100\n",
            "2/2 [==============================] - 0s 8ms/step - loss: 7.6954 - mae: 7.6954\n",
            "Epoch 85/100\n",
            "2/2 [==============================] - 0s 8ms/step - loss: 10.0533 - mae: 10.0533\n",
            "Epoch 86/100\n",
            "2/2 [==============================] - 0s 7ms/step - loss: 9.2564 - mae: 9.2564\n",
            "Epoch 87/100\n",
            "2/2 [==============================] - 0s 7ms/step - loss: 12.0453 - mae: 12.0453\n",
            "Epoch 88/100\n",
            "2/2 [==============================] - 0s 8ms/step - loss: 10.6645 - mae: 10.6645\n",
            "Epoch 89/100\n",
            "2/2 [==============================] - 0s 7ms/step - loss: 7.2678 - mae: 7.2678\n",
            "Epoch 90/100\n",
            "2/2 [==============================] - 0s 7ms/step - loss: 12.8074 - mae: 12.8074\n",
            "Epoch 91/100\n",
            "2/2 [==============================] - 0s 7ms/step - loss: 7.4813 - mae: 7.4813\n",
            "Epoch 92/100\n",
            "2/2 [==============================] - 0s 7ms/step - loss: 6.7507 - mae: 6.7507\n",
            "Epoch 93/100\n",
            "2/2 [==============================] - 0s 8ms/step - loss: 11.9568 - mae: 11.9568\n",
            "Epoch 94/100\n",
            "2/2 [==============================] - 0s 8ms/step - loss: 8.8864 - mae: 8.8864\n",
            "Epoch 95/100\n",
            "2/2 [==============================] - 0s 8ms/step - loss: 7.7235 - mae: 7.7235\n",
            "Epoch 96/100\n",
            "2/2 [==============================] - 0s 8ms/step - loss: 6.7506 - mae: 6.7506\n",
            "Epoch 97/100\n",
            "2/2 [==============================] - 0s 9ms/step - loss: 8.6392 - mae: 8.6392\n",
            "Epoch 98/100\n",
            "2/2 [==============================] - 0s 6ms/step - loss: 9.3877 - mae: 9.3877\n",
            "Epoch 99/100\n",
            "2/2 [==============================] - 0s 6ms/step - loss: 9.1244 - mae: 9.1244\n",
            "Epoch 100/100\n",
            "2/2 [==============================] - 0s 11ms/step - loss: 10.4791 - mae: 10.4791\n"
          ]
        },
        {
          "output_type": "execute_result",
          "data": {
            "text/plain": [
              "<keras.callbacks.History at 0x7f2a6c3d7910>"
            ]
          },
          "metadata": {},
          "execution_count": 38
        }
      ]
    },
    {
      "cell_type": "code",
      "source": [
        "y_preds_1=m1.predict(X_test)\n",
        "plot_predictions(predictions=y_preds_1)"
      ],
      "metadata": {
        "colab": {
          "base_uri": "https://localhost:8080/",
          "height": 445
        },
        "id": "CEsgoIk1B5CC",
        "outputId": "3a839256-0fe0-470c-d468-97fecaa9a971"
      },
      "execution_count": null,
      "outputs": [
        {
          "output_type": "stream",
          "name": "stdout",
          "text": [
            "1/1 [==============================] - 0s 41ms/step\n"
          ]
        },
        {
          "output_type": "display_data",
          "data": {
            "text/plain": [
              "<Figure size 720x504 with 1 Axes>"
            ],
            "image/png": "[encoded data removed]"
          },
          "metadata": {
            "needs_background": "light"
          }
        }
      ]
    },
    {
      "cell_type": "code",
      "source": [
        "mae_1=mae(Y_test,(y_preds_1))\n",
        "mse_1=mse(Y_test,(y_preds_1))\n",
        "mae_1,mse_1"
      ],
      "metadata": {
        "colab": {
          "base_uri": "https://localhost:8080/"
        },
        "id": "Hx21Vk8DFONx",
        "outputId": "49c88c77-d0e7-42fa-bad6-1cd11dbef8ca"
      },
      "execution_count": null,
      "outputs": [
        {
          "output_type": "execute_result",
          "data": {
            "text/plain": [
              "(<tf.Tensor: shape=(), dtype=float32, numpy=14.924655>,\n",
              " <tf.Tensor: shape=(), dtype=float32, numpy=223.58565>)"
            ]
          },
          "metadata": {},
          "execution_count": 40
        }
      ]
    },
    {
      "cell_type": "code",
      "source": [
        "tf.random.set_seed(42)\n",
        "\n",
        "m2=tf.keras.Sequential([\n",
        "    tf.keras.layers.Dense(10),\n",
        "    tf.keras.layers.Dense(1)\n",
        "])\n",
        "m2.compile(loss=tf.keras.losses.mae,\n",
        "           optimizer=tf.keras.optimizers.SGD(),\n",
        "           metrics=[\"mse\"])\n",
        "m2.fit(tf.expand_dims(X_train,axis=-1),Y_train,epochs=100)"
      ],
      "metadata": {
        "colab": {
          "base_uri": "https://localhost:8080/"
        },
        "id": "YskPhZGqGTOy",
        "outputId": "e46d1c75-56cd-4bbe-e46d-5698316a1010"
      },
      "execution_count": null,
      "outputs": [
        {
          "output_type": "stream",
          "name": "stdout",
          "text": [
            "Epoch 1/100\n",
            "2/2 [==============================] - 0s 15ms/step - loss: 63.0012 - mse: 6128.8066\n",
            "Epoch 2/100\n",
            "2/2 [==============================] - 0s 9ms/step - loss: 29.0394 - mse: 1315.6666\n",
            "Epoch 3/100\n",
            "2/2 [==============================] - 0s 7ms/step - loss: 19.9969 - mse: 586.6320\n",
            "Epoch 4/100\n",
            "2/2 [==============================] - 0s 8ms/step - loss: 12.9829 - mse: 230.7463\n",
            "Epoch 5/100\n",
            "2/2 [==============================] - 0s 7ms/step - loss: 16.4409 - mse: 357.8338\n",
            "Epoch 6/100\n",
            "2/2 [==============================] - 0s 7ms/step - loss: 11.1813 - mse: 139.0090\n",
            "Epoch 7/100\n",
            "2/2 [==============================] - 0s 8ms/step - loss: 12.1986 - mse: 189.5864\n",
            "Epoch 8/100\n",
            "2/2 [==============================] - 0s 8ms/step - loss: 10.9269 - mse: 136.6632\n",
            "Epoch 9/100\n",
            "2/2 [==============================] - 0s 10ms/step - loss: 38.1115 - mse: 2246.2927\n",
            "Epoch 10/100\n",
            "2/2 [==============================] - 0s 7ms/step - loss: 25.6811 - mse: 926.3473\n",
            "Epoch 11/100\n",
            "2/2 [==============================] - 0s 7ms/step - loss: 10.2594 - mse: 148.7955\n",
            "Epoch 12/100\n",
            "2/2 [==============================] - 0s 12ms/step - loss: 25.2644 - mse: 889.6320\n",
            "Epoch 13/100\n",
            "2/2 [==============================] - 0s 8ms/step - loss: 17.0647 - mse: 404.2427\n",
            "Epoch 14/100\n",
            "2/2 [==============================] - 0s 7ms/step - loss: 26.0477 - mse: 1060.9659\n",
            "Epoch 15/100\n",
            "2/2 [==============================] - 0s 8ms/step - loss: 18.0991 - mse: 455.4221\n",
            "Epoch 16/100\n",
            "2/2 [==============================] - 0s 7ms/step - loss: 7.8695 - mse: 90.0509\n",
            "Epoch 17/100\n",
            "2/2 [==============================] - 0s 8ms/step - loss: 22.2074 - mse: 683.1360\n",
            "Epoch 18/100\n",
            "2/2 [==============================] - 0s 9ms/step - loss: 10.8300 - mse: 171.3342\n",
            "Epoch 19/100\n",
            "2/2 [==============================] - 0s 7ms/step - loss: 10.7163 - mse: 138.9771\n",
            "Epoch 20/100\n",
            "2/2 [==============================] - 0s 8ms/step - loss: 12.0369 - mse: 165.0187\n",
            "Epoch 21/100\n",
            "2/2 [==============================] - 0s 8ms/step - loss: 20.1102 - mse: 586.8348\n",
            "Epoch 22/100\n",
            "2/2 [==============================] - 0s 8ms/step - loss: 13.7718 - mse: 242.1089\n",
            "Epoch 23/100\n",
            "2/2 [==============================] - 0s 7ms/step - loss: 9.5305 - mse: 94.8302\n",
            "Epoch 24/100\n",
            "2/2 [==============================] - 0s 7ms/step - loss: 11.8853 - mse: 163.6030\n",
            "Epoch 25/100\n",
            "2/2 [==============================] - 0s 7ms/step - loss: 16.1622 - mse: 382.5496\n",
            "Epoch 26/100\n",
            "2/2 [==============================] - 0s 8ms/step - loss: 16.3579 - mse: 372.1316\n",
            "Epoch 27/100\n",
            "2/2 [==============================] - 0s 7ms/step - loss: 11.5807 - mse: 180.1753\n",
            "Epoch 28/100\n",
            "2/2 [==============================] - 0s 7ms/step - loss: 29.8828 - mse: 1455.5958\n",
            "Epoch 29/100\n",
            "2/2 [==============================] - 0s 8ms/step - loss: 9.2598 - mse: 92.8951\n",
            "Epoch 30/100\n",
            "2/2 [==============================] - 0s 8ms/step - loss: 30.4473 - mse: 1697.8254\n",
            "Epoch 31/100\n",
            "2/2 [==============================] - 0s 8ms/step - loss: 55.3381 - mse: 5492.8799\n",
            "Epoch 32/100\n",
            "2/2 [==============================] - 0s 7ms/step - loss: 9.7180 - mse: 103.1750\n",
            "Epoch 33/100\n",
            "2/2 [==============================] - 0s 7ms/step - loss: 12.3327 - mse: 193.0316\n",
            "Epoch 34/100\n",
            "2/2 [==============================] - 0s 7ms/step - loss: 24.5974 - mse: 919.7299\n",
            "Epoch 35/100\n",
            "2/2 [==============================] - 0s 7ms/step - loss: 11.9384 - mse: 211.0902\n",
            "Epoch 36/100\n",
            "2/2 [==============================] - 0s 7ms/step - loss: 22.1451 - mse: 698.0456\n",
            "Epoch 37/100\n",
            "2/2 [==============================] - 0s 11ms/step - loss: 17.4943 - mse: 436.6935\n",
            "Epoch 38/100\n",
            "2/2 [==============================] - 0s 7ms/step - loss: 10.7104 - mse: 132.6009\n",
            "Epoch 39/100\n",
            "2/2 [==============================] - 0s 8ms/step - loss: 11.2266 - mse: 165.0859\n",
            "Epoch 40/100\n",
            "2/2 [==============================] - 0s 9ms/step - loss: 18.1356 - mse: 475.2977\n",
            "Epoch 41/100\n",
            "2/2 [==============================] - 0s 8ms/step - loss: 10.4639 - mse: 182.4253\n",
            "Epoch 42/100\n",
            "2/2 [==============================] - 0s 8ms/step - loss: 7.8445 - mse: 84.0250\n",
            "Epoch 43/100\n",
            "2/2 [==============================] - 0s 7ms/step - loss: 14.1635 - mse: 288.5691\n",
            "Epoch 44/100\n",
            "2/2 [==============================] - 0s 7ms/step - loss: 24.8494 - mse: 979.1108\n",
            "Epoch 45/100\n",
            "2/2 [==============================] - 0s 7ms/step - loss: 10.9297 - mse: 137.4035\n",
            "Epoch 46/100\n",
            "2/2 [==============================] - 0s 7ms/step - loss: 12.9933 - mse: 240.5673\n",
            "Epoch 47/100\n",
            "2/2 [==============================] - 0s 8ms/step - loss: 10.4627 - mse: 172.1918\n",
            "Epoch 48/100\n",
            "2/2 [==============================] - 0s 7ms/step - loss: 17.1999 - mse: 401.0981\n",
            "Epoch 49/100\n",
            "2/2 [==============================] - 0s 8ms/step - loss: 9.6056 - mse: 100.5448\n",
            "Epoch 50/100\n",
            "2/2 [==============================] - 0s 9ms/step - loss: 13.8689 - mse: 262.9571\n",
            "Epoch 51/100\n",
            "2/2 [==============================] - 0s 8ms/step - loss: 11.6203 - mse: 155.6575\n",
            "Epoch 52/100\n",
            "2/2 [==============================] - 0s 8ms/step - loss: 30.6468 - mse: 1624.1226\n",
            "Epoch 53/100\n",
            "2/2 [==============================] - 0s 7ms/step - loss: 14.3990 - mse: 304.6743\n",
            "Epoch 54/100\n",
            "2/2 [==============================] - 0s 7ms/step - loss: 24.0439 - mse: 865.2819\n",
            "Epoch 55/100\n",
            "2/2 [==============================] - 0s 7ms/step - loss: 23.2748 - mse: 811.5563\n",
            "Epoch 56/100\n",
            "2/2 [==============================] - 0s 9ms/step - loss: 10.9182 - mse: 171.1175\n",
            "Epoch 57/100\n",
            "2/2 [==============================] - 0s 7ms/step - loss: 12.7867 - mse: 200.1934\n",
            "Epoch 58/100\n",
            "2/2 [==============================] - 0s 7ms/step - loss: 9.6261 - mse: 102.9952\n",
            "Epoch 59/100\n",
            "2/2 [==============================] - 0s 7ms/step - loss: 12.5533 - mse: 218.2321\n",
            "Epoch 60/100\n",
            "2/2 [==============================] - 0s 7ms/step - loss: 12.3541 - mse: 210.1569\n",
            "Epoch 61/100\n",
            "2/2 [==============================] - 0s 7ms/step - loss: 13.2519 - mse: 229.6304\n",
            "Epoch 62/100\n",
            "2/2 [==============================] - 0s 12ms/step - loss: 17.0805 - mse: 444.2579\n",
            "Epoch 63/100\n",
            "2/2 [==============================] - 0s 8ms/step - loss: 9.0652 - mse: 87.5954\n",
            "Epoch 64/100\n",
            "2/2 [==============================] - 0s 8ms/step - loss: 17.7238 - mse: 455.1628\n",
            "Epoch 65/100\n",
            "2/2 [==============================] - 0s 7ms/step - loss: 10.5376 - mse: 134.0151\n",
            "Epoch 66/100\n",
            "2/2 [==============================] - 0s 9ms/step - loss: 21.2024 - mse: 663.0380\n",
            "Epoch 67/100\n",
            "2/2 [==============================] - 0s 8ms/step - loss: 10.5319 - mse: 129.2120\n",
            "Epoch 68/100\n",
            "2/2 [==============================] - 0s 7ms/step - loss: 14.3674 - mse: 311.1503\n",
            "Epoch 69/100\n",
            "2/2 [==============================] - 0s 8ms/step - loss: 10.6195 - mse: 129.2733\n",
            "Epoch 70/100\n",
            "2/2 [==============================] - 0s 7ms/step - loss: 12.7034 - mse: 205.0295\n",
            "Epoch 71/100\n",
            "2/2 [==============================] - 0s 7ms/step - loss: 13.1297 - mse: 232.1436\n",
            "Epoch 72/100\n",
            "2/2 [==============================] - 0s 8ms/step - loss: 19.6109 - mse: 546.0336\n",
            "Epoch 73/100\n",
            "2/2 [==============================] - 0s 7ms/step - loss: 11.1994 - mse: 191.6873\n",
            "Epoch 74/100\n",
            "2/2 [==============================] - 0s 9ms/step - loss: 21.8813 - mse: 745.2177\n",
            "Epoch 75/100\n",
            "2/2 [==============================] - 0s 8ms/step - loss: 7.2073 - mse: 71.6272\n",
            "Epoch 76/100\n",
            "2/2 [==============================] - 0s 8ms/step - loss: 9.4277 - mse: 149.8147\n",
            "Epoch 77/100\n",
            "2/2 [==============================] - 0s 9ms/step - loss: 22.0651 - mse: 727.6452\n",
            "Epoch 78/100\n",
            "2/2 [==============================] - 0s 7ms/step - loss: 17.6705 - mse: 474.3794\n",
            "Epoch 79/100\n",
            "2/2 [==============================] - 0s 8ms/step - loss: 14.8467 - mse: 322.6578\n",
            "Epoch 80/100\n",
            "2/2 [==============================] - 0s 8ms/step - loss: 25.1431 - mse: 964.6084\n",
            "Epoch 81/100\n",
            "2/2 [==============================] - 0s 8ms/step - loss: 10.9204 - mse: 140.9920\n",
            "Epoch 82/100\n",
            "2/2 [==============================] - 0s 8ms/step - loss: 12.7571 - mse: 232.4845\n",
            "Epoch 83/100\n",
            "2/2 [==============================] - 0s 8ms/step - loss: 17.5335 - mse: 400.8022\n",
            "Epoch 84/100\n",
            "2/2 [==============================] - 0s 9ms/step - loss: 7.2972 - mse: 73.3240\n",
            "Epoch 85/100\n",
            "2/2 [==============================] - 0s 8ms/step - loss: 15.0537 - mse: 316.2726\n",
            "Epoch 86/100\n",
            "2/2 [==============================] - 0s 7ms/step - loss: 15.3587 - mse: 317.3233\n",
            "Epoch 87/100\n",
            "2/2 [==============================] - 0s 10ms/step - loss: 19.2484 - mse: 527.6290\n",
            "Epoch 88/100\n",
            "2/2 [==============================] - 0s 8ms/step - loss: 29.4615 - mse: 1254.0199\n",
            "Epoch 89/100\n",
            "2/2 [==============================] - 0s 9ms/step - loss: 10.1356 - mse: 124.3296\n",
            "Epoch 90/100\n",
            "2/2 [==============================] - 0s 9ms/step - loss: 21.2228 - mse: 645.0283\n",
            "Epoch 91/100\n",
            "2/2 [==============================] - 0s 9ms/step - loss: 10.5122 - mse: 163.3261\n",
            "Epoch 92/100\n",
            "2/2 [==============================] - 0s 9ms/step - loss: 18.1244 - mse: 449.6856\n",
            "Epoch 93/100\n",
            "2/2 [==============================] - 0s 8ms/step - loss: 6.5547 - mse: 60.9051\n",
            "Epoch 94/100\n",
            "2/2 [==============================] - 0s 9ms/step - loss: 11.1684 - mse: 155.1206\n",
            "Epoch 95/100\n",
            "2/2 [==============================] - 0s 8ms/step - loss: 24.5483 - mse: 904.9207\n",
            "Epoch 96/100\n",
            "2/2 [==============================] - 0s 8ms/step - loss: 10.7771 - mse: 172.0724\n",
            "Epoch 97/100\n",
            "2/2 [==============================] - 0s 8ms/step - loss: 15.4770 - mse: 363.3579\n",
            "Epoch 98/100\n",
            "2/2 [==============================] - 0s 8ms/step - loss: 9.0441 - mse: 144.0759\n",
            "Epoch 99/100\n",
            "2/2 [==============================] - 0s 8ms/step - loss: 10.8638 - mse: 138.5310\n",
            "Epoch 100/100\n",
            "2/2 [==============================] - 0s 8ms/step - loss: 27.0568 - mse: 1116.1550\n"
          ]
        },
        {
          "output_type": "execute_result",
          "data": {
            "text/plain": [
              "<keras.callbacks.History at 0x7f2a6bfcdfa0>"
            ]
          },
          "metadata": {},
          "execution_count": 41
        }
      ]
    },
    {
      "cell_type": "code",
      "source": [
        "y_preds_2=m2.predict(X_test)\n",
        "plot_predictions(predictions=y_preds_2)\n"
      ],
      "metadata": {
        "colab": {
          "base_uri": "https://localhost:8080/",
          "height": 483
        },
        "id": "PwsS94xbKs5w",
        "outputId": "2280ebfe-c5a9-414e-b28f-bb3bfd02811e"
      },
      "execution_count": null,
      "outputs": [
        {
          "output_type": "stream",
          "name": "stderr",
          "text": [
            "WARNING:tensorflow:5 out of the last 5 calls to <function Model.make_predict_function.<locals>.predict_function at 0x7f2aed5a23a0> triggered tf.function retracing. Tracing is expensive and the excessive number of tracings could be due to (1) creating @tf.function repeatedly in a loop, (2) passing tensors with different shapes, (3) passing Python objects instead of tensors. For (1), please define your @tf.function outside of the loop. For (2), @tf.function has reduce_retracing=True option that can avoid unnecessary retracing. For (3), please refer to https://www.tensorflow.org/guide/function#controlling_retracing and https://www.tensorflow.org/api_docs/python/tf/function for  more details.\n"
          ]
        },
        {
          "output_type": "stream",
          "name": "stdout",
          "text": [
            "1/1 [==============================] - 0s 50ms/step\n"
          ]
        },
        {
          "output_type": "display_data",
          "data": {
            "text/plain": [
              "<Figure size 720x504 with 1 Axes>"
            ],
            "image/png": "[encoded data removed]"
          },
          "metadata": {
            "needs_background": "light"
          }
        }
      ]
    },
    {
      "cell_type": "code",
      "source": [
        "mae_2=mae(Y_test,(y_preds_2))\n",
        "mse_2=mse(Y_test,(y_preds_2))\n",
        "mae_2,mse_2"
      ],
      "metadata": {
        "colab": {
          "base_uri": "https://localhost:8080/"
        },
        "id": "MPH3XrJNLQk7",
        "outputId": "4c3c659e-f00d-4ddc-e8df-19eb04b07b3e"
      },
      "execution_count": null,
      "outputs": [
        {
          "output_type": "execute_result",
          "data": {
            "text/plain": [
              "(<tf.Tensor: shape=(), dtype=float32, numpy=10.002889>,\n",
              " <tf.Tensor: shape=(), dtype=float32, numpy=107.30039>)"
            ]
          },
          "metadata": {},
          "execution_count": 43
        }
      ]
    },
    {
      "cell_type": "code",
      "source": [
        "tf.random.set_seed(42)\n",
        "\n",
        "m3=tf.keras.Sequential([\n",
        "    tf.keras.layers.Dense(10),\n",
        "    tf.keras.layers.Dense(1)\n",
        "])\n",
        "m3.compile(loss=tf.keras.losses.mae,\n",
        "           optimizer=tf.keras.optimizers.SGD(),\n",
        "           metrics=[\"mse\"])\n",
        "m3.fit(tf.expand_dims(X_train,axis=-1),Y_train,epochs=500)"
      ],
      "metadata": {
        "colab": {
          "base_uri": "https://localhost:8080/"
        },
        "id": "fmbheASELp6B",
        "outputId": "8036128f-b736-4cf5-b72d-4eb59063f41b"
      },
      "execution_count": null,
      "outputs": [
        {
          "output_type": "stream",
          "name": "stdout",
          "text": [
            "Epoch 1/500\n",
            "2/2 [==============================] - 0s 13ms/step - loss: 28.5072 - mse: 1514.4229\n",
            "Epoch 2/500\n",
            "2/2 [==============================] - 0s 8ms/step - loss: 25.5718 - mse: 954.8739\n",
            "Epoch 3/500\n",
            "2/2 [==============================] - 0s 8ms/step - loss: 30.3725 - mse: 1378.3630\n",
            "Epoch 4/500\n",
            "2/2 [==============================] - 0s 8ms/step - loss: 16.2360 - mse: 394.1781\n",
            "Epoch 5/500\n",
            "2/2 [==============================] - 0s 8ms/step - loss: 22.0731 - mse: 712.1981\n",
            "Epoch 6/500\n",
            "2/2 [==============================] - 0s 8ms/step - loss: 11.7250 - mse: 159.1180\n",
            "Epoch 7/500\n",
            "2/2 [==============================] - 0s 8ms/step - loss: 12.8397 - mse: 224.5618\n",
            "Epoch 8/500\n",
            "2/2 [==============================] - 0s 8ms/step - loss: 11.1554 - mse: 157.5459\n",
            "Epoch 9/500\n",
            "2/2 [==============================] - 0s 7ms/step - loss: 40.7705 - mse: 2623.0176\n",
            "Epoch 10/500\n",
            "2/2 [==============================] - 0s 13ms/step - loss: 28.1270 - mse: 1115.1544\n",
            "Epoch 11/500\n",
            "2/2 [==============================] - 0s 8ms/step - loss: 10.2606 - mse: 149.2524\n",
            "Epoch 12/500\n",
            "2/2 [==============================] - 0s 7ms/step - loss: 25.2928 - mse: 892.1460\n",
            "Epoch 13/500\n",
            "2/2 [==============================] - 0s 7ms/step - loss: 17.1306 - mse: 408.2646\n",
            "Epoch 14/500\n",
            "2/2 [==============================] - 0s 7ms/step - loss: 26.1790 - mse: 1072.9803\n",
            "Epoch 15/500\n",
            "2/2 [==============================] - 0s 7ms/step - loss: 18.2052 - mse: 460.7953\n",
            "Epoch 16/500\n",
            "2/2 [==============================] - 0s 7ms/step - loss: 7.8638 - mse: 89.2041\n",
            "Epoch 17/500\n",
            "2/2 [==============================] - 0s 7ms/step - loss: 22.3217 - mse: 691.0148\n",
            "Epoch 18/500\n",
            "2/2 [==============================] - 0s 7ms/step - loss: 10.8617 - mse: 174.4768\n",
            "Epoch 19/500\n",
            "2/2 [==============================] - 0s 7ms/step - loss: 10.7518 - mse: 141.0666\n",
            "Epoch 20/500\n",
            "2/2 [==============================] - 0s 7ms/step - loss: 12.0734 - mse: 166.4727\n",
            "Epoch 21/500\n",
            "2/2 [==============================] - 0s 9ms/step - loss: 20.2383 - mse: 595.2472\n",
            "Epoch 22/500\n",
            "2/2 [==============================] - 0s 8ms/step - loss: 13.8403 - mse: 245.7547\n",
            "Epoch 23/500\n",
            "2/2 [==============================] - 0s 9ms/step - loss: 9.5676 - mse: 95.5010\n",
            "Epoch 24/500\n",
            "2/2 [==============================] - 0s 8ms/step - loss: 11.9270 - mse: 164.6789\n",
            "Epoch 25/500\n",
            "2/2 [==============================] - 0s 7ms/step - loss: 16.2792 - mse: 388.3705\n",
            "Epoch 26/500\n",
            "2/2 [==============================] - 0s 8ms/step - loss: 16.4690 - mse: 377.9848\n",
            "Epoch 27/500\n",
            "2/2 [==============================] - 0s 7ms/step - loss: 11.6099 - mse: 183.4510\n",
            "Epoch 28/500\n",
            "2/2 [==============================] - 0s 13ms/step - loss: 30.1141 - mse: 1479.3878\n",
            "Epoch 29/500\n",
            "2/2 [==============================] - 0s 8ms/step - loss: 9.2552 - mse: 92.4432\n",
            "Epoch 30/500\n",
            "2/2 [==============================] - 0s 7ms/step - loss: 30.6339 - mse: 1724.1357\n",
            "Epoch 31/500\n",
            "2/2 [==============================] - 0s 7ms/step - loss: 41.9099 - mse: 3069.6084\n",
            "Epoch 32/500\n",
            "2/2 [==============================] - 0s 8ms/step - loss: 11.8801 - mse: 204.7020\n",
            "Epoch 33/500\n",
            "2/2 [==============================] - 0s 8ms/step - loss: 15.4623 - mse: 329.3999\n",
            "Epoch 34/500\n",
            "2/2 [==============================] - 0s 7ms/step - loss: 12.5643 - mse: 207.9294\n",
            "Epoch 35/500\n",
            "2/2 [==============================] - 0s 7ms/step - loss: 9.1746 - mse: 91.1063\n",
            "Epoch 36/500\n",
            "2/2 [==============================] - 0s 7ms/step - loss: 16.4519 - mse: 393.4648\n",
            "Epoch 37/500\n",
            "2/2 [==============================] - 0s 8ms/step - loss: 11.0784 - mse: 191.9286\n",
            "Epoch 38/500\n",
            "2/2 [==============================] - 0s 8ms/step - loss: 18.2087 - mse: 436.9880\n",
            "Epoch 39/500\n",
            "2/2 [==============================] - 0s 8ms/step - loss: 19.1392 - mse: 533.6217\n",
            "Epoch 40/500\n",
            "2/2 [==============================] - 0s 8ms/step - loss: 20.5050 - mse: 614.3055\n",
            "Epoch 41/500\n",
            "2/2 [==============================] - 0s 7ms/step - loss: 14.7952 - mse: 274.1919\n",
            "Epoch 42/500\n",
            "2/2 [==============================] - 0s 10ms/step - loss: 12.1935 - mse: 182.2903\n",
            "Epoch 43/500\n",
            "2/2 [==============================] - 0s 8ms/step - loss: 10.6812 - mse: 163.3802\n",
            "Epoch 44/500\n",
            "2/2 [==============================] - 0s 7ms/step - loss: 32.3263 - mse: 1718.9922\n",
            "Epoch 45/500\n",
            "2/2 [==============================] - 0s 7ms/step - loss: 12.4660 - mse: 202.2756\n",
            "Epoch 46/500\n",
            "2/2 [==============================] - 0s 7ms/step - loss: 17.5635 - mse: 462.2823\n",
            "Epoch 47/500\n",
            "2/2 [==============================] - 0s 8ms/step - loss: 15.7273 - mse: 338.2676\n",
            "Epoch 48/500\n",
            "2/2 [==============================] - 0s 8ms/step - loss: 8.3501 - mse: 112.3565\n",
            "Epoch 49/500\n",
            "2/2 [==============================] - 0s 7ms/step - loss: 13.9525 - mse: 268.1822\n",
            "Epoch 50/500\n",
            "2/2 [==============================] - 0s 7ms/step - loss: 12.8011 - mse: 214.5139\n",
            "Epoch 51/500\n",
            "2/2 [==============================] - 0s 7ms/step - loss: 14.8133 - mse: 308.2780\n",
            "Epoch 52/500\n",
            "2/2 [==============================] - 0s 7ms/step - loss: 18.7004 - mse: 527.7273\n",
            "Epoch 53/500\n",
            "2/2 [==============================] - 0s 8ms/step - loss: 24.1334 - mse: 826.3380\n",
            "Epoch 54/500\n",
            "2/2 [==============================] - 0s 7ms/step - loss: 23.2569 - mse: 810.8295\n",
            "Epoch 55/500\n",
            "2/2 [==============================] - 0s 9ms/step - loss: 24.1209 - mse: 875.9310\n",
            "Epoch 56/500\n",
            "2/2 [==============================] - 0s 7ms/step - loss: 11.1730 - mse: 170.7274\n",
            "Epoch 57/500\n",
            "2/2 [==============================] - 0s 8ms/step - loss: 13.1420 - mse: 215.6108\n",
            "Epoch 58/500\n",
            "2/2 [==============================] - 0s 8ms/step - loss: 9.8204 - mse: 106.5033\n",
            "Epoch 59/500\n",
            "2/2 [==============================] - 0s 7ms/step - loss: 13.3455 - mse: 252.1267\n",
            "Epoch 60/500\n",
            "2/2 [==============================] - 0s 8ms/step - loss: 10.8861 - mse: 140.2054\n",
            "Epoch 61/500\n",
            "2/2 [==============================] - 0s 7ms/step - loss: 13.5087 - mse: 244.2191\n",
            "Epoch 62/500\n",
            "2/2 [==============================] - 0s 8ms/step - loss: 17.8245 - mse: 483.6712\n",
            "Epoch 63/500\n",
            "2/2 [==============================] - 0s 7ms/step - loss: 8.7043 - mse: 91.8324\n",
            "Epoch 64/500\n",
            "2/2 [==============================] - 0s 7ms/step - loss: 16.0942 - mse: 371.4344\n",
            "Epoch 65/500\n",
            "2/2 [==============================] - 0s 7ms/step - loss: 10.7114 - mse: 145.6206\n",
            "Epoch 66/500\n",
            "2/2 [==============================] - 0s 8ms/step - loss: 22.1551 - mse: 727.0793\n",
            "Epoch 67/500\n",
            "2/2 [==============================] - 0s 7ms/step - loss: 10.2370 - mse: 120.5796\n",
            "Epoch 68/500\n",
            "2/2 [==============================] - 0s 7ms/step - loss: 13.4472 - mse: 268.4280\n",
            "Epoch 69/500\n",
            "2/2 [==============================] - 0s 7ms/step - loss: 11.4066 - mse: 162.6246\n",
            "Epoch 70/500\n",
            "2/2 [==============================] - 0s 7ms/step - loss: 13.5920 - mse: 245.3763\n",
            "Epoch 71/500\n",
            "2/2 [==============================] - 0s 7ms/step - loss: 15.6215 - mse: 346.9161\n",
            "Epoch 72/500\n",
            "2/2 [==============================] - 0s 7ms/step - loss: 11.8344 - mse: 168.2671\n",
            "Epoch 73/500\n",
            "2/2 [==============================] - 0s 7ms/step - loss: 16.6304 - mse: 372.9454\n",
            "Epoch 74/500\n",
            "2/2 [==============================] - 0s 7ms/step - loss: 24.1928 - mse: 921.2874\n",
            "Epoch 75/500\n",
            "2/2 [==============================] - 0s 8ms/step - loss: 9.6219 - mse: 148.5172\n",
            "Epoch 76/500\n",
            "2/2 [==============================] - 0s 8ms/step - loss: 12.4779 - mse: 190.0303\n",
            "Epoch 77/500\n",
            "2/2 [==============================] - 0s 8ms/step - loss: 16.7608 - mse: 436.0339\n",
            "Epoch 78/500\n",
            "2/2 [==============================] - 0s 8ms/step - loss: 9.0684 - mse: 96.6716\n",
            "Epoch 79/500\n",
            "2/2 [==============================] - 0s 8ms/step - loss: 24.1153 - mse: 876.2135\n",
            "Epoch 80/500\n",
            "2/2 [==============================] - 0s 7ms/step - loss: 26.9243 - mse: 1120.7018\n",
            "Epoch 81/500\n",
            "2/2 [==============================] - 0s 7ms/step - loss: 11.7462 - mse: 174.3293\n",
            "Epoch 82/500\n",
            "2/2 [==============================] - 0s 8ms/step - loss: 11.9698 - mse: 210.9499\n",
            "Epoch 83/500\n",
            "2/2 [==============================] - 0s 8ms/step - loss: 17.3468 - mse: 392.0544\n",
            "Epoch 84/500\n",
            "2/2 [==============================] - 0s 7ms/step - loss: 6.8270 - mse: 63.5222\n",
            "Epoch 85/500\n",
            "2/2 [==============================] - 0s 7ms/step - loss: 16.0087 - mse: 361.3438\n",
            "Epoch 86/500\n",
            "2/2 [==============================] - 0s 8ms/step - loss: 15.8523 - mse: 334.7822\n",
            "Epoch 87/500\n",
            "2/2 [==============================] - 0s 9ms/step - loss: 20.3174 - mse: 578.0923\n",
            "Epoch 88/500\n",
            "2/2 [==============================] - 0s 7ms/step - loss: 34.0922 - mse: 1706.2483\n",
            "Epoch 89/500\n",
            "2/2 [==============================] - 0s 8ms/step - loss: 10.6174 - mse: 131.8603\n",
            "Epoch 90/500\n",
            "2/2 [==============================] - 0s 8ms/step - loss: 23.5697 - mse: 803.7887\n",
            "Epoch 91/500\n",
            "2/2 [==============================] - 0s 8ms/step - loss: 11.1261 - mse: 159.8641\n",
            "Epoch 92/500\n",
            "2/2 [==============================] - 0s 7ms/step - loss: 20.4331 - mse: 577.9846\n",
            "Epoch 93/500\n",
            "2/2 [==============================] - 0s 7ms/step - loss: 6.7923 - mse: 67.0510\n",
            "Epoch 94/500\n",
            "2/2 [==============================] - 0s 8ms/step - loss: 12.9919 - mse: 229.5994\n",
            "Epoch 95/500\n",
            "2/2 [==============================] - 0s 8ms/step - loss: 18.3931 - mse: 498.9179\n",
            "Epoch 96/500\n",
            "2/2 [==============================] - 0s 8ms/step - loss: 10.3298 - mse: 178.0787\n",
            "Epoch 97/500\n",
            "2/2 [==============================] - 0s 8ms/step - loss: 14.4142 - mse: 314.1044\n",
            "Epoch 98/500\n",
            "2/2 [==============================] - 0s 8ms/step - loss: 6.5565 - mse: 60.1491\n",
            "Epoch 99/500\n",
            "2/2 [==============================] - 0s 9ms/step - loss: 12.5828 - mse: 229.0609\n",
            "Epoch 100/500\n",
            "2/2 [==============================] - 0s 9ms/step - loss: 19.3958 - mse: 552.6785\n",
            "Epoch 101/500\n",
            "2/2 [==============================] - 0s 10ms/step - loss: 16.0732 - mse: 386.9565\n",
            "Epoch 102/500\n",
            "2/2 [==============================] - 0s 9ms/step - loss: 11.1715 - mse: 163.5721\n",
            "Epoch 103/500\n",
            "2/2 [==============================] - 0s 10ms/step - loss: 9.3022 - mse: 95.7055\n",
            "Epoch 104/500\n",
            "2/2 [==============================] - 0s 9ms/step - loss: 25.0033 - mse: 940.3042\n",
            "Epoch 105/500\n",
            "2/2 [==============================] - 0s 9ms/step - loss: 11.9859 - mse: 212.7340\n",
            "Epoch 106/500\n",
            "2/2 [==============================] - 0s 10ms/step - loss: 10.0687 - mse: 122.9244\n",
            "Epoch 107/500\n",
            "2/2 [==============================] - 0s 11ms/step - loss: 22.5891 - mse: 765.8736\n",
            "Epoch 108/500\n",
            "2/2 [==============================] - 0s 9ms/step - loss: 8.1181 - mse: 89.9244\n",
            "Epoch 109/500\n",
            "2/2 [==============================] - 0s 10ms/step - loss: 13.3681 - mse: 250.8346\n",
            "Epoch 110/500\n",
            "2/2 [==============================] - 0s 9ms/step - loss: 7.9581 - mse: 114.8900\n",
            "Epoch 111/500\n",
            "2/2 [==============================] - 0s 9ms/step - loss: 15.7106 - mse: 347.0115\n",
            "Epoch 112/500\n",
            "2/2 [==============================] - 0s 8ms/step - loss: 8.7427 - mse: 92.0024\n",
            "Epoch 113/500\n",
            "2/2 [==============================] - 0s 10ms/step - loss: 22.7739 - mse: 752.4547\n",
            "Epoch 114/500\n",
            "2/2 [==============================] - 0s 10ms/step - loss: 19.1082 - mse: 551.7513\n",
            "Epoch 115/500\n",
            "2/2 [==============================] - 0s 11ms/step - loss: 11.0956 - mse: 154.0252\n",
            "Epoch 116/500\n",
            "2/2 [==============================] - 0s 11ms/step - loss: 23.2335 - mse: 786.4689\n",
            "Epoch 117/500\n",
            "2/2 [==============================] - 0s 11ms/step - loss: 9.5892 - mse: 126.1905\n",
            "Epoch 118/500\n",
            "2/2 [==============================] - 0s 9ms/step - loss: 10.6620 - mse: 139.5616\n",
            "Epoch 119/500\n",
            "2/2 [==============================] - 0s 9ms/step - loss: 8.0286 - mse: 77.8383\n",
            "Epoch 120/500\n",
            "2/2 [==============================] - 0s 9ms/step - loss: 29.6075 - mse: 1308.3870\n",
            "Epoch 121/500\n",
            "2/2 [==============================] - 0s 9ms/step - loss: 8.0655 - mse: 70.4943\n",
            "Epoch 122/500\n",
            "2/2 [==============================] - 0s 8ms/step - loss: 28.2468 - mse: 1226.9763\n",
            "Epoch 123/500\n",
            "2/2 [==============================] - 0s 9ms/step - loss: 32.8253 - mse: 1583.8823\n",
            "Epoch 124/500\n",
            "2/2 [==============================] - 0s 9ms/step - loss: 19.5717 - mse: 568.2440\n",
            "Epoch 125/500\n",
            "2/2 [==============================] - 0s 10ms/step - loss: 9.5798 - mse: 151.0960\n",
            "Epoch 126/500\n",
            "2/2 [==============================] - 0s 7ms/step - loss: 9.6438 - mse: 113.0709\n",
            "Epoch 127/500\n",
            "2/2 [==============================] - 0s 9ms/step - loss: 12.8699 - mse: 259.4230\n",
            "Epoch 128/500\n",
            "2/2 [==============================] - 0s 8ms/step - loss: 13.3993 - mse: 251.1366\n",
            "Epoch 129/500\n",
            "2/2 [==============================] - 0s 8ms/step - loss: 10.2225 - mse: 156.7998\n",
            "Epoch 130/500\n",
            "2/2 [==============================] - 0s 7ms/step - loss: 17.5878 - mse: 434.1481\n",
            "Epoch 131/500\n",
            "2/2 [==============================] - 0s 8ms/step - loss: 9.5225 - mse: 118.2487\n",
            "Epoch 132/500\n",
            "2/2 [==============================] - 0s 8ms/step - loss: 17.5089 - mse: 457.7542\n",
            "Epoch 133/500\n",
            "2/2 [==============================] - 0s 7ms/step - loss: 6.2611 - mse: 53.9706\n",
            "Epoch 134/500\n",
            "2/2 [==============================] - 0s 7ms/step - loss: 25.3766 - mse: 909.7669\n",
            "Epoch 135/500\n",
            "2/2 [==============================] - 0s 8ms/step - loss: 16.3072 - mse: 373.2888\n",
            "Epoch 136/500\n",
            "2/2 [==============================] - 0s 7ms/step - loss: 14.5874 - mse: 298.9371\n",
            "Epoch 137/500\n",
            "2/2 [==============================] - 0s 7ms/step - loss: 22.6546 - mse: 691.7133\n",
            "Epoch 138/500\n",
            "2/2 [==============================] - 0s 8ms/step - loss: 8.9317 - mse: 140.4364\n",
            "Epoch 139/500\n",
            "2/2 [==============================] - 0s 7ms/step - loss: 7.9228 - mse: 107.0433\n",
            "Epoch 140/500\n",
            "2/2 [==============================] - 0s 7ms/step - loss: 19.7645 - mse: 553.3391\n",
            "Epoch 141/500\n",
            "2/2 [==============================] - 0s 7ms/step - loss: 8.3372 - mse: 80.1286\n",
            "Epoch 142/500\n",
            "2/2 [==============================] - 0s 7ms/step - loss: 35.2176 - mse: 2161.2332\n",
            "Epoch 143/500\n",
            "2/2 [==============================] - 0s 8ms/step - loss: 24.1448 - mse: 819.5707\n",
            "Epoch 144/500\n",
            "2/2 [==============================] - 0s 8ms/step - loss: 11.3872 - mse: 219.3221\n",
            "Epoch 145/500\n",
            "2/2 [==============================] - 0s 7ms/step - loss: 25.2566 - mse: 864.2837\n",
            "Epoch 146/500\n",
            "2/2 [==============================] - 0s 11ms/step - loss: 10.7772 - mse: 155.7184\n",
            "Epoch 147/500\n",
            "2/2 [==============================] - 0s 7ms/step - loss: 14.2382 - mse: 290.9687\n",
            "Epoch 148/500\n",
            "2/2 [==============================] - 0s 8ms/step - loss: 17.1618 - mse: 404.8842\n",
            "Epoch 149/500\n",
            "2/2 [==============================] - 0s 7ms/step - loss: 9.0106 - mse: 106.1981\n",
            "Epoch 150/500\n",
            "2/2 [==============================] - 0s 8ms/step - loss: 7.8148 - mse: 68.5325\n",
            "Epoch 151/500\n",
            "2/2 [==============================] - 0s 8ms/step - loss: 20.5871 - mse: 620.0900\n",
            "Epoch 152/500\n",
            "2/2 [==============================] - 0s 7ms/step - loss: 10.3902 - mse: 134.5610\n",
            "Epoch 153/500\n",
            "2/2 [==============================] - 0s 7ms/step - loss: 30.2630 - mse: 1328.2091\n",
            "Epoch 154/500\n",
            "2/2 [==============================] - 0s 7ms/step - loss: 9.9755 - mse: 177.0437\n",
            "Epoch 155/500\n",
            "2/2 [==============================] - 0s 7ms/step - loss: 15.7328 - mse: 368.1986\n",
            "Epoch 156/500\n",
            "2/2 [==============================] - 0s 7ms/step - loss: 17.6551 - mse: 463.4960\n",
            "Epoch 157/500\n",
            "2/2 [==============================] - 0s 8ms/step - loss: 31.1325 - mse: 1556.9500\n",
            "Epoch 158/500\n",
            "2/2 [==============================] - 0s 7ms/step - loss: 10.1646 - mse: 137.9837\n",
            "Epoch 159/500\n",
            "2/2 [==============================] - 0s 7ms/step - loss: 8.6473 - mse: 97.2643\n",
            "Epoch 160/500\n",
            "2/2 [==============================] - 0s 7ms/step - loss: 20.7902 - mse: 622.2217\n",
            "Epoch 161/500\n",
            "2/2 [==============================] - 0s 7ms/step - loss: 11.8006 - mse: 206.4403\n",
            "Epoch 162/500\n",
            "2/2 [==============================] - 0s 7ms/step - loss: 21.8004 - mse: 685.4403\n",
            "Epoch 163/500\n",
            "2/2 [==============================] - 0s 7ms/step - loss: 19.4635 - mse: 545.6336\n",
            "Epoch 164/500\n",
            "2/2 [==============================] - 0s 7ms/step - loss: 11.3579 - mse: 194.7529\n",
            "Epoch 165/500\n",
            "2/2 [==============================] - 0s 7ms/step - loss: 11.6069 - mse: 226.8952\n",
            "Epoch 166/500\n",
            "2/2 [==============================] - 0s 7ms/step - loss: 21.3613 - mse: 670.3290\n",
            "Epoch 167/500\n",
            "2/2 [==============================] - 0s 7ms/step - loss: 26.8592 - mse: 1098.1174\n",
            "Epoch 168/500\n",
            "2/2 [==============================] - 0s 7ms/step - loss: 9.9620 - mse: 120.0929\n",
            "Epoch 169/500\n",
            "2/2 [==============================] - 0s 7ms/step - loss: 23.1353 - mse: 828.7184\n",
            "Epoch 170/500\n",
            "2/2 [==============================] - 0s 9ms/step - loss: 10.0572 - mse: 200.0438\n",
            "Epoch 171/500\n",
            "2/2 [==============================] - 0s 7ms/step - loss: 17.8006 - mse: 492.5317\n",
            "Epoch 172/500\n",
            "2/2 [==============================] - 0s 7ms/step - loss: 29.4294 - mse: 1365.7469\n",
            "Epoch 173/500\n",
            "2/2 [==============================] - 0s 7ms/step - loss: 16.9954 - mse: 454.6349\n",
            "Epoch 174/500\n",
            "2/2 [==============================] - 0s 7ms/step - loss: 11.1591 - mse: 203.7540\n",
            "Epoch 175/500\n",
            "2/2 [==============================] - 0s 9ms/step - loss: 27.4316 - mse: 1086.9531\n",
            "Epoch 176/500\n",
            "2/2 [==============================] - 0s 7ms/step - loss: 8.4328 - mse: 81.1452\n",
            "Epoch 177/500\n",
            "2/2 [==============================] - 0s 7ms/step - loss: 9.3826 - mse: 111.4187\n",
            "Epoch 178/500\n",
            "2/2 [==============================] - 0s 7ms/step - loss: 18.6365 - mse: 489.6646\n",
            "Epoch 179/500\n",
            "2/2 [==============================] - 0s 7ms/step - loss: 10.3763 - mse: 142.8398\n",
            "Epoch 180/500\n",
            "2/2 [==============================] - 0s 7ms/step - loss: 7.9830 - mse: 97.6066\n",
            "Epoch 181/500\n",
            "2/2 [==============================] - 0s 7ms/step - loss: 17.8184 - mse: 458.8497\n",
            "Epoch 182/500\n",
            "2/2 [==============================] - 0s 10ms/step - loss: 11.1967 - mse: 162.5171\n",
            "Epoch 183/500\n",
            "2/2 [==============================] - 0s 8ms/step - loss: 12.4253 - mse: 233.0060\n",
            "Epoch 184/500\n",
            "2/2 [==============================] - 0s 10ms/step - loss: 27.4705 - mse: 1120.6899\n",
            "Epoch 185/500\n",
            "2/2 [==============================] - 0s 11ms/step - loss: 7.5352 - mse: 99.6528\n",
            "Epoch 186/500\n",
            "2/2 [==============================] - 0s 9ms/step - loss: 15.9033 - mse: 365.5292\n",
            "Epoch 187/500\n",
            "2/2 [==============================] - 0s 10ms/step - loss: 8.5850 - mse: 85.4145\n",
            "Epoch 188/500\n",
            "2/2 [==============================] - 0s 10ms/step - loss: 29.0059 - mse: 1199.7437\n",
            "Epoch 189/500\n",
            "2/2 [==============================] - 0s 10ms/step - loss: 13.1125 - mse: 272.1804\n",
            "Epoch 190/500\n",
            "2/2 [==============================] - 0s 9ms/step - loss: 18.2475 - mse: 507.9909\n",
            "Epoch 191/500\n",
            "2/2 [==============================] - 0s 8ms/step - loss: 13.6639 - mse: 262.2628\n",
            "Epoch 192/500\n",
            "2/2 [==============================] - 0s 10ms/step - loss: 13.6813 - mse: 261.7702\n",
            "Epoch 193/500\n",
            "2/2 [==============================] - 0s 10ms/step - loss: 28.5227 - mse: 1130.5641\n",
            "Epoch 194/500\n",
            "2/2 [==============================] - 0s 9ms/step - loss: 7.1395 - mse: 78.2929\n",
            "Epoch 195/500\n",
            "2/2 [==============================] - 0s 10ms/step - loss: 7.0507 - mse: 75.4729\n",
            "Epoch 196/500\n",
            "2/2 [==============================] - 0s 9ms/step - loss: 21.9138 - mse: 704.2386\n",
            "Epoch 197/500\n",
            "2/2 [==============================] - 0s 9ms/step - loss: 21.0367 - mse: 656.1750\n",
            "Epoch 198/500\n",
            "2/2 [==============================] - 0s 9ms/step - loss: 12.5832 - mse: 240.2629\n",
            "Epoch 199/500\n",
            "2/2 [==============================] - 0s 11ms/step - loss: 18.0762 - mse: 468.6383\n",
            "Epoch 200/500\n",
            "2/2 [==============================] - 0s 9ms/step - loss: 13.9039 - mse: 288.8747\n",
            "Epoch 201/500\n",
            "2/2 [==============================] - 0s 10ms/step - loss: 6.0295 - mse: 50.5349\n",
            "Epoch 202/500\n",
            "2/2 [==============================] - 0s 9ms/step - loss: 22.9583 - mse: 751.1933\n",
            "Epoch 203/500\n",
            "2/2 [==============================] - 0s 10ms/step - loss: 8.9653 - mse: 152.4501\n",
            "Epoch 204/500\n",
            "2/2 [==============================] - 0s 10ms/step - loss: 18.9221 - mse: 536.6701\n",
            "Epoch 205/500\n",
            "2/2 [==============================] - 0s 8ms/step - loss: 9.3846 - mse: 127.0941\n",
            "Epoch 206/500\n",
            "2/2 [==============================] - 0s 10ms/step - loss: 11.0229 - mse: 166.3726\n",
            "Epoch 207/500\n",
            "2/2 [==============================] - 0s 10ms/step - loss: 17.4706 - mse: 461.2073\n",
            "Epoch 208/500\n",
            "2/2 [==============================] - 0s 11ms/step - loss: 14.2288 - mse: 293.0299\n",
            "Epoch 209/500\n",
            "2/2 [==============================] - 0s 8ms/step - loss: 16.5282 - mse: 405.0363\n",
            "Epoch 210/500\n",
            "2/2 [==============================] - 0s 9ms/step - loss: 18.0068 - mse: 472.8568\n",
            "Epoch 211/500\n",
            "2/2 [==============================] - 0s 8ms/step - loss: 9.8666 - mse: 145.7332\n",
            "Epoch 212/500\n",
            "2/2 [==============================] - 0s 9ms/step - loss: 18.4622 - mse: 514.4545\n",
            "Epoch 213/500\n",
            "2/2 [==============================] - 0s 10ms/step - loss: 15.0047 - mse: 306.5998\n",
            "Epoch 214/500\n",
            "2/2 [==============================] - 0s 9ms/step - loss: 14.5660 - mse: 292.4120\n",
            "Epoch 215/500\n",
            "2/2 [==============================] - 0s 10ms/step - loss: 23.2572 - mse: 796.7479\n",
            "Epoch 216/500\n",
            "2/2 [==============================] - 0s 8ms/step - loss: 13.4399 - mse: 280.7713\n",
            "Epoch 217/500\n",
            "2/2 [==============================] - 0s 11ms/step - loss: 9.9168 - mse: 138.5680\n",
            "Epoch 218/500\n",
            "2/2 [==============================] - 0s 9ms/step - loss: 12.4962 - mse: 205.3125\n",
            "Epoch 219/500\n",
            "2/2 [==============================] - 0s 9ms/step - loss: 5.2914 - mse: 40.8363\n",
            "Epoch 220/500\n",
            "2/2 [==============================] - 0s 10ms/step - loss: 12.3730 - mse: 242.5212\n",
            "Epoch 221/500\n",
            "2/2 [==============================] - 0s 9ms/step - loss: 22.3418 - mse: 726.2693\n",
            "Epoch 222/500\n",
            "2/2 [==============================] - 0s 8ms/step - loss: 21.4434 - mse: 718.2728\n",
            "Epoch 223/500\n",
            "2/2 [==============================] - 0s 7ms/step - loss: 11.6733 - mse: 197.7850\n",
            "Epoch 224/500\n",
            "2/2 [==============================] - 0s 7ms/step - loss: 13.5700 - mse: 261.9456\n",
            "Epoch 225/500\n",
            "2/2 [==============================] - 0s 8ms/step - loss: 15.7018 - mse: 319.8636\n",
            "Epoch 226/500\n",
            "2/2 [==============================] - 0s 7ms/step - loss: 14.9429 - mse: 317.6244\n",
            "Epoch 227/500\n",
            "2/2 [==============================] - 0s 6ms/step - loss: 15.2795 - mse: 324.6544\n",
            "Epoch 228/500\n",
            "2/2 [==============================] - 0s 7ms/step - loss: 17.4373 - mse: 457.4808\n",
            "Epoch 229/500\n",
            "2/2 [==============================] - 0s 7ms/step - loss: 7.1926 - mse: 92.8548\n",
            "Epoch 230/500\n",
            "2/2 [==============================] - 0s 7ms/step - loss: 7.4374 - mse: 69.0645\n",
            "Epoch 231/500\n",
            "2/2 [==============================] - 0s 8ms/step - loss: 24.8132 - mse: 909.5306\n",
            "Epoch 232/500\n",
            "2/2 [==============================] - 0s 7ms/step - loss: 8.7608 - mse: 96.7788\n",
            "Epoch 233/500\n",
            "2/2 [==============================] - 0s 7ms/step - loss: 24.7872 - mse: 892.6703\n",
            "Epoch 234/500\n",
            "2/2 [==============================] - 0s 7ms/step - loss: 8.1325 - mse: 95.0829\n",
            "Epoch 235/500\n",
            "2/2 [==============================] - 0s 8ms/step - loss: 13.0755 - mse: 250.3703\n",
            "Epoch 236/500\n",
            "2/2 [==============================] - 0s 7ms/step - loss: 6.6957 - mse: 70.5925\n",
            "Epoch 237/500\n",
            "2/2 [==============================] - 0s 7ms/step - loss: 8.6279 - mse: 113.9196\n",
            "Epoch 238/500\n",
            "2/2 [==============================] - 0s 7ms/step - loss: 7.7701 - mse: 87.3484\n",
            "Epoch 239/500\n",
            "2/2 [==============================] - 0s 8ms/step - loss: 15.7789 - mse: 378.4653\n",
            "Epoch 240/500\n",
            "2/2 [==============================] - 0s 7ms/step - loss: 9.0405 - mse: 109.4002\n",
            "Epoch 241/500\n",
            "2/2 [==============================] - 0s 7ms/step - loss: 13.5244 - mse: 282.4468\n",
            "Epoch 242/500\n",
            "2/2 [==============================] - 0s 9ms/step - loss: 8.9205 - mse: 108.7106\n",
            "Epoch 243/500\n",
            "2/2 [==============================] - 0s 8ms/step - loss: 19.5158 - mse: 580.8192\n",
            "Epoch 244/500\n",
            "2/2 [==============================] - 0s 7ms/step - loss: 13.8168 - mse: 269.9857\n",
            "Epoch 245/500\n",
            "2/2 [==============================] - 0s 7ms/step - loss: 14.4812 - mse: 280.4303\n",
            "Epoch 246/500\n",
            "2/2 [==============================] - 0s 7ms/step - loss: 18.1504 - mse: 528.7413\n",
            "Epoch 247/500\n",
            "2/2 [==============================] - 0s 6ms/step - loss: 37.1177 - mse: 2152.7036\n",
            "Epoch 248/500\n",
            "2/2 [==============================] - 0s 6ms/step - loss: 6.7261 - mse: 76.8781\n",
            "Epoch 249/500\n",
            "2/2 [==============================] - 0s 7ms/step - loss: 7.9670 - mse: 81.2942\n",
            "Epoch 250/500\n",
            "2/2 [==============================] - 0s 8ms/step - loss: 24.8920 - mse: 950.0897\n",
            "Epoch 251/500\n",
            "2/2 [==============================] - 0s 7ms/step - loss: 10.4197 - mse: 213.2979\n",
            "Epoch 252/500\n",
            "2/2 [==============================] - 0s 9ms/step - loss: 30.8425 - mse: 1324.8320\n",
            "Epoch 253/500\n",
            "2/2 [==============================] - 0s 7ms/step - loss: 8.1411 - mse: 152.6735\n",
            "Epoch 254/500\n",
            "2/2 [==============================] - 0s 7ms/step - loss: 16.2970 - mse: 410.2521\n",
            "Epoch 255/500\n",
            "2/2 [==============================] - 0s 8ms/step - loss: 22.0558 - mse: 737.6096\n",
            "Epoch 256/500\n",
            "2/2 [==============================] - 0s 8ms/step - loss: 26.7817 - mse: 1017.7316\n",
            "Epoch 257/500\n",
            "2/2 [==============================] - 0s 8ms/step - loss: 11.8543 - mse: 216.2229\n",
            "Epoch 258/500\n",
            "2/2 [==============================] - 0s 8ms/step - loss: 8.4778 - mse: 92.8762\n",
            "Epoch 259/500\n",
            "2/2 [==============================] - 0s 7ms/step - loss: 22.8209 - mse: 777.8473\n",
            "Epoch 260/500\n",
            "2/2 [==============================] - 0s 8ms/step - loss: 31.3014 - mse: 1494.5842\n",
            "Epoch 261/500\n",
            "2/2 [==============================] - 0s 7ms/step - loss: 11.0699 - mse: 174.9606\n",
            "Epoch 262/500\n",
            "2/2 [==============================] - 0s 8ms/step - loss: 9.9409 - mse: 137.4355\n",
            "Epoch 263/500\n",
            "2/2 [==============================] - 0s 7ms/step - loss: 8.8927 - mse: 102.5487\n",
            "Epoch 264/500\n",
            "2/2 [==============================] - 0s 7ms/step - loss: 21.2640 - mse: 635.2294\n",
            "Epoch 265/500\n",
            "2/2 [==============================] - 0s 8ms/step - loss: 11.5221 - mse: 199.4986\n",
            "Epoch 266/500\n",
            "2/2 [==============================] - 0s 7ms/step - loss: 13.3686 - mse: 256.6525\n",
            "Epoch 267/500\n",
            "2/2 [==============================] - 0s 7ms/step - loss: 11.1204 - mse: 231.0172\n",
            "Epoch 268/500\n",
            "2/2 [==============================] - 0s 7ms/step - loss: 19.2566 - mse: 554.3748\n",
            "Epoch 269/500\n",
            "2/2 [==============================] - 0s 10ms/step - loss: 40.4036 - mse: 2528.7207\n",
            "Epoch 270/500\n",
            "2/2 [==============================] - 0s 7ms/step - loss: 12.7602 - mse: 250.9296\n",
            "Epoch 271/500\n",
            "2/2 [==============================] - 0s 7ms/step - loss: 14.7898 - mse: 280.1472\n",
            "Epoch 272/500\n",
            "2/2 [==============================] - 0s 7ms/step - loss: 28.5609 - mse: 1119.7937\n",
            "Epoch 273/500\n",
            "2/2 [==============================] - 0s 8ms/step - loss: 7.3061 - mse: 83.8755\n",
            "Epoch 274/500\n",
            "2/2 [==============================] - 0s 8ms/step - loss: 6.3482 - mse: 45.9262\n",
            "Epoch 275/500\n",
            "2/2 [==============================] - 0s 7ms/step - loss: 36.6639 - mse: 2057.3374\n",
            "Epoch 276/500\n",
            "2/2 [==============================] - 0s 9ms/step - loss: 8.2576 - mse: 110.5431\n",
            "Epoch 277/500\n",
            "2/2 [==============================] - 0s 7ms/step - loss: 27.5288 - mse: 1036.4221\n",
            "Epoch 278/500\n",
            "2/2 [==============================] - 0s 7ms/step - loss: 10.7095 - mse: 211.0022\n",
            "Epoch 279/500\n",
            "2/2 [==============================] - 0s 7ms/step - loss: 16.1353 - mse: 392.2292\n",
            "Epoch 280/500\n",
            "2/2 [==============================] - 0s 6ms/step - loss: 21.2952 - mse: 684.6070\n",
            "Epoch 281/500\n",
            "2/2 [==============================] - 0s 7ms/step - loss: 23.6517 - mse: 854.2543\n",
            "Epoch 282/500\n",
            "2/2 [==============================] - 0s 7ms/step - loss: 8.2124 - mse: 95.7930\n",
            "Epoch 283/500\n",
            "2/2 [==============================] - 0s 7ms/step - loss: 8.4131 - mse: 97.4698\n",
            "Epoch 284/500\n",
            "2/2 [==============================] - 0s 7ms/step - loss: 26.5017 - mse: 1064.8923\n",
            "Epoch 285/500\n",
            "2/2 [==============================] - 0s 7ms/step - loss: 14.1368 - mse: 317.7581\n",
            "Epoch 286/500\n",
            "2/2 [==============================] - 0s 8ms/step - loss: 5.9985 - mse: 55.1172\n",
            "Epoch 287/500\n",
            "2/2 [==============================] - 0s 8ms/step - loss: 18.9998 - mse: 561.0382\n",
            "Epoch 288/500\n",
            "2/2 [==============================] - 0s 8ms/step - loss: 32.8704 - mse: 1671.5120\n",
            "Epoch 289/500\n",
            "2/2 [==============================] - 0s 7ms/step - loss: 8.3747 - mse: 164.2411\n",
            "Epoch 290/500\n",
            "2/2 [==============================] - 0s 7ms/step - loss: 16.8708 - mse: 386.7802\n",
            "Epoch 291/500\n",
            "2/2 [==============================] - 0s 8ms/step - loss: 17.2397 - mse: 438.7194\n",
            "Epoch 292/500\n",
            "2/2 [==============================] - 0s 11ms/step - loss: 10.8681 - mse: 284.8646\n",
            "Epoch 293/500\n",
            "2/2 [==============================] - 0s 9ms/step - loss: 14.5624 - mse: 286.5199\n",
            "Epoch 294/500\n",
            "2/2 [==============================] - 0s 7ms/step - loss: 21.7939 - mse: 728.2787\n",
            "Epoch 295/500\n",
            "2/2 [==============================] - 0s 9ms/step - loss: 19.9975 - mse: 576.3507\n",
            "Epoch 296/500\n",
            "2/2 [==============================] - 0s 7ms/step - loss: 7.0032 - mse: 63.0009\n",
            "Epoch 297/500\n",
            "2/2 [==============================] - 0s 8ms/step - loss: 8.9990 - mse: 176.9440\n",
            "Epoch 298/500\n",
            "2/2 [==============================] - 0s 10ms/step - loss: 24.2436 - mse: 851.6282\n",
            "Epoch 299/500\n",
            "2/2 [==============================] - 0s 10ms/step - loss: 17.9091 - mse: 479.0115\n",
            "Epoch 300/500\n",
            "2/2 [==============================] - 0s 7ms/step - loss: 7.0131 - mse: 67.0122\n",
            "Epoch 301/500\n",
            "2/2 [==============================] - 0s 11ms/step - loss: 25.3951 - mse: 914.8655\n",
            "Epoch 302/500\n",
            "2/2 [==============================] - 0s 8ms/step - loss: 9.4722 - mse: 135.1550\n",
            "Epoch 303/500\n",
            "2/2 [==============================] - 0s 8ms/step - loss: 14.4666 - mse: 313.4637\n",
            "Epoch 304/500\n",
            "2/2 [==============================] - 0s 7ms/step - loss: 10.8503 - mse: 170.5076\n",
            "Epoch 305/500\n",
            "2/2 [==============================] - 0s 7ms/step - loss: 12.7023 - mse: 266.2870\n",
            "Epoch 306/500\n",
            "2/2 [==============================] - 0s 7ms/step - loss: 8.2919 - mse: 92.1163\n",
            "Epoch 307/500\n",
            "2/2 [==============================] - 0s 7ms/step - loss: 13.1446 - mse: 258.5639\n",
            "Epoch 308/500\n",
            "2/2 [==============================] - 0s 7ms/step - loss: 8.1588 - mse: 91.4800\n",
            "Epoch 309/500\n",
            "2/2 [==============================] - 0s 8ms/step - loss: 11.8040 - mse: 224.9304\n",
            "Epoch 310/500\n",
            "2/2 [==============================] - 0s 7ms/step - loss: 6.3695 - mse: 72.3068\n",
            "Epoch 311/500\n",
            "2/2 [==============================] - 0s 7ms/step - loss: 4.9853 - mse: 31.4839\n",
            "Epoch 312/500\n",
            "2/2 [==============================] - 0s 7ms/step - loss: 29.2534 - mse: 1185.9966\n",
            "Epoch 313/500\n",
            "2/2 [==============================] - 0s 9ms/step - loss: 9.0019 - mse: 119.8244\n",
            "Epoch 314/500\n",
            "2/2 [==============================] - 0s 7ms/step - loss: 5.7808 - mse: 57.8757\n",
            "Epoch 315/500\n",
            "2/2 [==============================] - 0s 8ms/step - loss: 24.9115 - mse: 894.4307\n",
            "Epoch 316/500\n",
            "2/2 [==============================] - 0s 9ms/step - loss: 14.2124 - mse: 319.2632\n",
            "Epoch 317/500\n",
            "2/2 [==============================] - 0s 7ms/step - loss: 19.6703 - mse: 532.8766\n",
            "Epoch 318/500\n",
            "2/2 [==============================] - 0s 9ms/step - loss: 7.8674 - mse: 79.7119\n",
            "Epoch 319/500\n",
            "2/2 [==============================] - 0s 7ms/step - loss: 17.8612 - mse: 474.1376\n",
            "Epoch 320/500\n",
            "2/2 [==============================] - 0s 8ms/step - loss: 10.1510 - mse: 172.0813\n",
            "Epoch 321/500\n",
            "2/2 [==============================] - 0s 7ms/step - loss: 8.2543 - mse: 109.8458\n",
            "Epoch 322/500\n",
            "2/2 [==============================] - 0s 7ms/step - loss: 4.3137 - mse: 26.7850\n",
            "Epoch 323/500\n",
            "2/2 [==============================] - 0s 7ms/step - loss: 23.7954 - mse: 823.0324\n",
            "Epoch 324/500\n",
            "2/2 [==============================] - 0s 11ms/step - loss: 6.8579 - mse: 58.7845\n",
            "Epoch 325/500\n",
            "2/2 [==============================] - 0s 7ms/step - loss: 16.5940 - mse: 393.3385\n",
            "Epoch 326/500\n",
            "2/2 [==============================] - 0s 9ms/step - loss: 7.5358 - mse: 79.7271\n",
            "Epoch 327/500\n",
            "2/2 [==============================] - 0s 8ms/step - loss: 20.3762 - mse: 586.4224\n",
            "Epoch 328/500\n",
            "2/2 [==============================] - 0s 7ms/step - loss: 13.6839 - mse: 263.1272\n",
            "Epoch 329/500\n",
            "2/2 [==============================] - 0s 7ms/step - loss: 16.7027 - mse: 424.7681\n",
            "Epoch 330/500\n",
            "2/2 [==============================] - 0s 8ms/step - loss: 7.0693 - mse: 80.5486\n",
            "Epoch 331/500\n",
            "2/2 [==============================] - 0s 7ms/step - loss: 21.8033 - mse: 726.0668\n",
            "Epoch 332/500\n",
            "2/2 [==============================] - 0s 6ms/step - loss: 12.7862 - mse: 259.5917\n",
            "Epoch 333/500\n",
            "2/2 [==============================] - 0s 6ms/step - loss: 9.3761 - mse: 139.1981\n",
            "Epoch 334/500\n",
            "2/2 [==============================] - 0s 8ms/step - loss: 7.5411 - mse: 90.1867\n",
            "Epoch 335/500\n",
            "2/2 [==============================] - 0s 7ms/step - loss: 6.1354 - mse: 43.2233\n",
            "Epoch 336/500\n",
            "2/2 [==============================] - 0s 7ms/step - loss: 38.3760 - mse: 2458.1643\n",
            "Epoch 337/500\n",
            "2/2 [==============================] - 0s 13ms/step - loss: 29.6845 - mse: 1322.1267\n",
            "Epoch 338/500\n",
            "2/2 [==============================] - 0s 7ms/step - loss: 16.1478 - mse: 381.1842\n",
            "Epoch 339/500\n",
            "2/2 [==============================] - 0s 7ms/step - loss: 9.5990 - mse: 140.2464\n",
            "Epoch 340/500\n",
            "2/2 [==============================] - 0s 7ms/step - loss: 8.5266 - mse: 104.7587\n",
            "Epoch 341/500\n",
            "2/2 [==============================] - 0s 7ms/step - loss: 21.7802 - mse: 662.0216\n",
            "Epoch 342/500\n",
            "2/2 [==============================] - 0s 8ms/step - loss: 14.0064 - mse: 261.6461\n",
            "Epoch 343/500\n",
            "2/2 [==============================] - 0s 7ms/step - loss: 11.4969 - mse: 177.1723\n",
            "Epoch 344/500\n",
            "2/2 [==============================] - 0s 6ms/step - loss: 10.5833 - mse: 234.5257\n",
            "Epoch 345/500\n",
            "2/2 [==============================] - 0s 10ms/step - loss: 30.8061 - mse: 1336.5746\n",
            "Epoch 346/500\n",
            "2/2 [==============================] - 0s 8ms/step - loss: 10.5331 - mse: 269.7901\n",
            "Epoch 347/500\n",
            "2/2 [==============================] - 0s 7ms/step - loss: 25.3783 - mse: 904.2198\n",
            "Epoch 348/500\n",
            "2/2 [==============================] - 0s 7ms/step - loss: 13.8140 - mse: 294.8109\n",
            "Epoch 349/500\n",
            "2/2 [==============================] - 0s 7ms/step - loss: 13.6002 - mse: 260.7798\n",
            "Epoch 350/500\n",
            "2/2 [==============================] - 0s 7ms/step - loss: 15.4262 - mse: 335.4323\n",
            "Epoch 351/500\n",
            "2/2 [==============================] - 0s 7ms/step - loss: 33.0026 - mse: 1528.5374\n",
            "Epoch 352/500\n",
            "2/2 [==============================] - 0s 7ms/step - loss: 14.2360 - mse: 283.6303\n",
            "Epoch 353/500\n",
            "2/2 [==============================] - 0s 7ms/step - loss: 15.9445 - mse: 376.8901\n",
            "Epoch 354/500\n",
            "2/2 [==============================] - 0s 7ms/step - loss: 19.1472 - mse: 538.3638\n",
            "Epoch 355/500\n",
            "2/2 [==============================] - 0s 7ms/step - loss: 33.9369 - mse: 1761.2051\n",
            "Epoch 356/500\n",
            "2/2 [==============================] - 0s 8ms/step - loss: 7.5856 - mse: 89.1146\n",
            "Epoch 357/500\n",
            "2/2 [==============================] - 0s 7ms/step - loss: 25.1384 - mse: 964.7933\n",
            "Epoch 358/500\n",
            "2/2 [==============================] - 0s 7ms/step - loss: 22.5452 - mse: 733.0349\n",
            "Epoch 359/500\n",
            "2/2 [==============================] - 0s 8ms/step - loss: 9.4479 - mse: 244.3488\n",
            "Epoch 360/500\n",
            "2/2 [==============================] - 0s 8ms/step - loss: 20.6504 - mse: 641.9133\n",
            "Epoch 361/500\n",
            "2/2 [==============================] - 0s 7ms/step - loss: 10.0598 - mse: 189.8529\n",
            "Epoch 362/500\n",
            "2/2 [==============================] - 0s 9ms/step - loss: 6.9819 - mse: 68.1101\n",
            "Epoch 363/500\n",
            "2/2 [==============================] - 0s 8ms/step - loss: 26.0694 - mse: 1017.6764\n",
            "Epoch 364/500\n",
            "2/2 [==============================] - 0s 8ms/step - loss: 32.5602 - mse: 1562.3098\n",
            "Epoch 365/500\n",
            "2/2 [==============================] - 0s 12ms/step - loss: 10.4246 - mse: 178.2377\n",
            "Epoch 366/500\n",
            "2/2 [==============================] - 0s 7ms/step - loss: 11.7888 - mse: 288.0457\n",
            "Epoch 367/500\n",
            "2/2 [==============================] - 0s 8ms/step - loss: 30.0946 - mse: 1269.4023\n",
            "Epoch 368/500\n",
            "2/2 [==============================] - 0s 8ms/step - loss: 9.7544 - mse: 224.9892\n",
            "Epoch 369/500\n",
            "2/2 [==============================] - 0s 8ms/step - loss: 14.9586 - mse: 329.8040\n",
            "Epoch 370/500\n",
            "2/2 [==============================] - 0s 8ms/step - loss: 14.6347 - mse: 306.9374\n",
            "Epoch 371/500\n",
            "2/2 [==============================] - 0s 8ms/step - loss: 23.3243 - mse: 787.6140\n",
            "Epoch 372/500\n",
            "2/2 [==============================] - 0s 8ms/step - loss: 13.1430 - mse: 291.1309\n",
            "Epoch 373/500\n",
            "2/2 [==============================] - 0s 7ms/step - loss: 9.5075 - mse: 153.3489\n",
            "Epoch 374/500\n",
            "2/2 [==============================] - 0s 8ms/step - loss: 11.4393 - mse: 213.7479\n",
            "Epoch 375/500\n",
            "2/2 [==============================] - 0s 8ms/step - loss: 13.3446 - mse: 247.2417\n",
            "Epoch 376/500\n",
            "2/2 [==============================] - 0s 8ms/step - loss: 15.2554 - mse: 345.7531\n",
            "Epoch 377/500\n",
            "2/2 [==============================] - 0s 8ms/step - loss: 15.2012 - mse: 308.0432\n",
            "Epoch 378/500\n",
            "2/2 [==============================] - 0s 7ms/step - loss: 16.3492 - mse: 428.0329\n",
            "Epoch 379/500\n",
            "2/2 [==============================] - 0s 8ms/step - loss: 21.0456 - mse: 607.6233\n",
            "Epoch 380/500\n",
            "2/2 [==============================] - 0s 7ms/step - loss: 32.8873 - mse: 1615.4784\n",
            "Epoch 381/500\n",
            "2/2 [==============================] - 0s 8ms/step - loss: 7.9715 - mse: 95.9159\n",
            "Epoch 382/500\n",
            "2/2 [==============================] - 0s 7ms/step - loss: 12.7408 - mse: 270.2366\n",
            "Epoch 383/500\n",
            "2/2 [==============================] - 0s 253ms/step - loss: 8.5838 - mse: 126.4356\n",
            "Epoch 384/500\n",
            "2/2 [==============================] - 0s 8ms/step - loss: 6.8477 - mse: 69.0679\n",
            "Epoch 385/500\n",
            "2/2 [==============================] - 0s 8ms/step - loss: 10.9879 - mse: 243.8469\n",
            "Epoch 386/500\n",
            "2/2 [==============================] - 0s 8ms/step - loss: 19.9205 - mse: 609.7346\n",
            "Epoch 387/500\n",
            "2/2 [==============================] - 0s 7ms/step - loss: 24.4971 - mse: 868.2792\n",
            "Epoch 388/500\n",
            "2/2 [==============================] - 0s 7ms/step - loss: 8.5202 - mse: 124.0155\n",
            "Epoch 389/500\n",
            "2/2 [==============================] - 0s 8ms/step - loss: 5.8251 - mse: 45.0697\n",
            "Epoch 390/500\n",
            "2/2 [==============================] - 0s 8ms/step - loss: 24.1202 - mse: 855.6038\n",
            "Epoch 391/500\n",
            "2/2 [==============================] - 0s 7ms/step - loss: 5.8356 - mse: 74.0057\n",
            "Epoch 392/500\n",
            "2/2 [==============================] - 0s 7ms/step - loss: 16.0766 - mse: 370.0872\n",
            "Epoch 393/500\n",
            "2/2 [==============================] - 0s 9ms/step - loss: 4.4863 - mse: 30.2094\n",
            "Epoch 394/500\n",
            "2/2 [==============================] - 0s 8ms/step - loss: 19.1361 - mse: 532.3323\n",
            "Epoch 395/500\n",
            "2/2 [==============================] - 0s 7ms/step - loss: 15.2090 - mse: 349.4489\n",
            "Epoch 396/500\n",
            "2/2 [==============================] - 0s 7ms/step - loss: 7.0674 - mse: 101.7016\n",
            "Epoch 397/500\n",
            "2/2 [==============================] - 0s 7ms/step - loss: 6.8417 - mse: 69.1376\n",
            "Epoch 398/500\n",
            "2/2 [==============================] - 0s 7ms/step - loss: 24.0081 - mse: 806.5236\n",
            "Epoch 399/500\n",
            "2/2 [==============================] - 0s 7ms/step - loss: 6.3214 - mse: 59.8287\n",
            "Epoch 400/500\n",
            "2/2 [==============================] - 0s 7ms/step - loss: 24.4514 - mse: 864.6561\n",
            "Epoch 401/500\n",
            "2/2 [==============================] - 0s 8ms/step - loss: 12.9145 - mse: 302.0981\n",
            "Epoch 402/500\n",
            "2/2 [==============================] - 0s 8ms/step - loss: 21.6852 - mse: 689.5059\n",
            "Epoch 403/500\n",
            "2/2 [==============================] - 0s 7ms/step - loss: 22.2791 - mse: 735.5649\n",
            "Epoch 404/500\n",
            "2/2 [==============================] - 0s 8ms/step - loss: 14.2655 - mse: 334.0906\n",
            "Epoch 405/500\n",
            "2/2 [==============================] - 0s 8ms/step - loss: 4.7026 - mse: 35.8122\n",
            "Epoch 406/500\n",
            "2/2 [==============================] - 0s 8ms/step - loss: 26.0946 - mse: 990.3156\n",
            "Epoch 407/500\n",
            "2/2 [==============================] - 0s 8ms/step - loss: 12.3189 - mse: 261.9630\n",
            "Epoch 408/500\n",
            "2/2 [==============================] - 0s 7ms/step - loss: 5.5734 - mse: 39.4316\n",
            "Epoch 409/500\n",
            "2/2 [==============================] - 0s 8ms/step - loss: 30.6643 - mse: 1451.6145\n",
            "Epoch 410/500\n",
            "2/2 [==============================] - 0s 7ms/step - loss: 9.7115 - mse: 243.7115\n",
            "Epoch 411/500\n",
            "2/2 [==============================] - 0s 8ms/step - loss: 14.6254 - mse: 279.0091\n",
            "Epoch 412/500\n",
            "2/2 [==============================] - 0s 7ms/step - loss: 21.3359 - mse: 699.5298\n",
            "Epoch 413/500\n",
            "2/2 [==============================] - 0s 7ms/step - loss: 13.5283 - mse: 279.6058\n",
            "Epoch 414/500\n",
            "2/2 [==============================] - 0s 7ms/step - loss: 7.6638 - mse: 159.4224\n",
            "Epoch 415/500\n",
            "2/2 [==============================] - 0s 8ms/step - loss: 12.1440 - mse: 246.2930\n",
            "Epoch 416/500\n",
            "2/2 [==============================] - 0s 9ms/step - loss: 25.7772 - mse: 924.5592\n",
            "Epoch 417/500\n",
            "2/2 [==============================] - 0s 8ms/step - loss: 15.3156 - mse: 360.4811\n",
            "Epoch 418/500\n",
            "2/2 [==============================] - 0s 7ms/step - loss: 12.6925 - mse: 233.8705\n",
            "Epoch 419/500\n",
            "2/2 [==============================] - 0s 8ms/step - loss: 15.7814 - mse: 367.1922\n",
            "Epoch 420/500\n",
            "2/2 [==============================] - 0s 7ms/step - loss: 24.5754 - mse: 839.1672\n",
            "Epoch 421/500\n",
            "2/2 [==============================] - 0s 7ms/step - loss: 17.8998 - mse: 469.0238\n",
            "Epoch 422/500\n",
            "2/2 [==============================] - 0s 7ms/step - loss: 8.6321 - mse: 195.1953\n",
            "Epoch 423/500\n",
            "2/2 [==============================] - 0s 8ms/step - loss: 24.7605 - mse: 868.6033\n",
            "Epoch 424/500\n",
            "2/2 [==============================] - 0s 13ms/step - loss: 16.5990 - mse: 427.5741\n",
            "Epoch 425/500\n",
            "2/2 [==============================] - 0s 9ms/step - loss: 7.1885 - mse: 76.0492\n",
            "Epoch 426/500\n",
            "2/2 [==============================] - 0s 10ms/step - loss: 20.7569 - mse: 596.1842\n",
            "Epoch 427/500\n",
            "2/2 [==============================] - 0s 9ms/step - loss: 6.3760 - mse: 82.4293\n",
            "Epoch 428/500\n",
            "2/2 [==============================] - 0s 10ms/step - loss: 13.3172 - mse: 295.8698\n",
            "Epoch 429/500\n",
            "2/2 [==============================] - 0s 8ms/step - loss: 11.0621 - mse: 199.0484\n",
            "Epoch 430/500\n",
            "2/2 [==============================] - 0s 10ms/step - loss: 11.9547 - mse: 270.9191\n",
            "Epoch 431/500\n",
            "2/2 [==============================] - 0s 7ms/step - loss: 8.5153 - mse: 137.8433\n",
            "Epoch 432/500\n",
            "2/2 [==============================] - 0s 11ms/step - loss: 18.7334 - mse: 493.3551\n",
            "Epoch 433/500\n",
            "2/2 [==============================] - 0s 8ms/step - loss: 10.0894 - mse: 255.5586\n",
            "Epoch 434/500\n",
            "2/2 [==============================] - 0s 9ms/step - loss: 30.6189 - mse: 1314.8091\n",
            "Epoch 435/500\n",
            "2/2 [==============================] - 0s 8ms/step - loss: 11.1106 - mse: 308.1747\n",
            "Epoch 436/500\n",
            "2/2 [==============================] - 0s 7ms/step - loss: 28.7016 - mse: 1203.2471\n",
            "Epoch 437/500\n",
            "2/2 [==============================] - 0s 9ms/step - loss: 7.4637 - mse: 152.0845\n",
            "Epoch 438/500\n",
            "2/2 [==============================] - 0s 9ms/step - loss: 13.1142 - mse: 246.3752\n",
            "Epoch 439/500\n",
            "2/2 [==============================] - 0s 6ms/step - loss: 34.0856 - mse: 1607.8920\n",
            "Epoch 440/500\n",
            "2/2 [==============================] - 0s 7ms/step - loss: 15.6605 - mse: 322.2495\n",
            "Epoch 441/500\n",
            "2/2 [==============================] - 0s 7ms/step - loss: 18.2011 - mse: 534.5883\n",
            "Epoch 442/500\n",
            "2/2 [==============================] - 0s 7ms/step - loss: 27.3585 - mse: 1091.6433\n",
            "Epoch 443/500\n",
            "2/2 [==============================] - 0s 10ms/step - loss: 10.4148 - mse: 204.6283\n",
            "Epoch 444/500\n",
            "2/2 [==============================] - 0s 7ms/step - loss: 6.2474 - mse: 70.1953\n",
            "Epoch 445/500\n",
            "2/2 [==============================] - 0s 8ms/step - loss: 7.8079 - mse: 153.7471\n",
            "Epoch 446/500\n",
            "2/2 [==============================] - 0s 8ms/step - loss: 15.9076 - mse: 401.2838\n",
            "Epoch 447/500\n",
            "2/2 [==============================] - 0s 7ms/step - loss: 15.1300 - mse: 311.8179\n",
            "Epoch 448/500\n",
            "2/2 [==============================] - 0s 8ms/step - loss: 11.9168 - mse: 233.2996\n",
            "Epoch 449/500\n",
            "2/2 [==============================] - 0s 7ms/step - loss: 15.0442 - mse: 316.1845\n",
            "Epoch 450/500\n",
            "2/2 [==============================] - 0s 8ms/step - loss: 17.7784 - mse: 504.1309\n",
            "Epoch 451/500\n",
            "2/2 [==============================] - 0s 8ms/step - loss: 11.1737 - mse: 281.4497\n",
            "Epoch 452/500\n",
            "2/2 [==============================] - 0s 8ms/step - loss: 31.2059 - mse: 1377.1437\n",
            "Epoch 453/500\n",
            "2/2 [==============================] - 0s 10ms/step - loss: 10.4747 - mse: 290.7116\n",
            "Epoch 454/500\n",
            "2/2 [==============================] - 0s 13ms/step - loss: 26.7163 - mse: 1002.4676\n",
            "Epoch 455/500\n",
            "2/2 [==============================] - 0s 13ms/step - loss: 12.6941 - mse: 264.2578\n",
            "Epoch 456/500\n",
            "2/2 [==============================] - 0s 13ms/step - loss: 15.1988 - mse: 311.0291\n",
            "Epoch 457/500\n",
            "2/2 [==============================] - 0s 9ms/step - loss: 18.7989 - mse: 531.9493\n",
            "Epoch 458/500\n",
            "2/2 [==============================] - 0s 7ms/step - loss: 24.0479 - mse: 857.9686\n",
            "Epoch 459/500\n",
            "2/2 [==============================] - 0s 9ms/step - loss: 17.3704 - mse: 426.4265\n",
            "Epoch 460/500\n",
            "2/2 [==============================] - 0s 7ms/step - loss: 4.6621 - mse: 48.9313\n",
            "Epoch 461/500\n",
            "2/2 [==============================] - 0s 8ms/step - loss: 17.0568 - mse: 413.9727\n",
            "Epoch 462/500\n",
            "2/2 [==============================] - 0s 8ms/step - loss: 13.9623 - mse: 279.7289\n",
            "Epoch 463/500\n",
            "2/2 [==============================] - 0s 13ms/step - loss: 30.5070 - mse: 1296.2480\n",
            "Epoch 464/500\n",
            "2/2 [==============================] - 0s 8ms/step - loss: 9.2881 - mse: 224.6937\n",
            "Epoch 465/500\n",
            "2/2 [==============================] - 0s 7ms/step - loss: 20.5681 - mse: 649.4409\n",
            "Epoch 466/500\n",
            "2/2 [==============================] - 0s 11ms/step - loss: 27.2325 - mse: 1087.4397\n",
            "Epoch 467/500\n",
            "2/2 [==============================] - 0s 16ms/step - loss: 16.8170 - mse: 413.0557\n",
            "Epoch 468/500\n",
            "2/2 [==============================] - 0s 10ms/step - loss: 10.2780 - mse: 284.8290\n",
            "Epoch 469/500\n",
            "2/2 [==============================] - 0s 10ms/step - loss: 27.1196 - mse: 1033.9529\n",
            "Epoch 470/500\n",
            "2/2 [==============================] - 0s 12ms/step - loss: 13.1426 - mse: 292.4036\n",
            "Epoch 471/500\n",
            "2/2 [==============================] - 0s 6ms/step - loss: 10.9505 - mse: 217.4597\n",
            "Epoch 472/500\n",
            "2/2 [==============================] - 0s 8ms/step - loss: 15.2613 - mse: 325.4079\n",
            "Epoch 473/500\n",
            "2/2 [==============================] - 0s 7ms/step - loss: 19.0080 - mse: 553.0233\n",
            "Epoch 474/500\n",
            "2/2 [==============================] - 0s 7ms/step - loss: 39.8602 - mse: 2478.9912\n",
            "Epoch 475/500\n",
            "2/2 [==============================] - 0s 8ms/step - loss: 16.4209 - mse: 388.6334\n",
            "Epoch 476/500\n",
            "2/2 [==============================] - 0s 7ms/step - loss: 13.3952 - mse: 246.1191\n",
            "Epoch 477/500\n",
            "2/2 [==============================] - 0s 8ms/step - loss: 29.6612 - mse: 1228.7258\n",
            "Epoch 478/500\n",
            "2/2 [==============================] - 0s 9ms/step - loss: 3.0638 - mse: 13.3159\n",
            "Epoch 479/500\n",
            "2/2 [==============================] - 0s 10ms/step - loss: 6.0313 - mse: 60.3223\n",
            "Epoch 480/500\n",
            "2/2 [==============================] - 0s 8ms/step - loss: 19.6754 - mse: 561.1183\n",
            "Epoch 481/500\n",
            "2/2 [==============================] - 0s 7ms/step - loss: 10.8899 - mse: 297.7870\n",
            "Epoch 482/500\n",
            "2/2 [==============================] - 0s 8ms/step - loss: 18.3676 - mse: 553.0449\n",
            "Epoch 483/500\n",
            "2/2 [==============================] - 0s 7ms/step - loss: 19.9792 - mse: 564.2313\n",
            "Epoch 484/500\n",
            "2/2 [==============================] - 0s 7ms/step - loss: 18.1463 - mse: 462.6880\n",
            "Epoch 485/500\n",
            "2/2 [==============================] - 0s 8ms/step - loss: 7.8637 - mse: 198.7642\n",
            "Epoch 486/500\n",
            "2/2 [==============================] - 0s 6ms/step - loss: 19.3980 - mse: 573.4498\n",
            "Epoch 487/500\n",
            "2/2 [==============================] - 0s 8ms/step - loss: 12.5203 - mse: 275.3066\n",
            "Epoch 488/500\n",
            "2/2 [==============================] - 0s 7ms/step - loss: 10.8935 - mse: 187.2660\n",
            "Epoch 489/500\n",
            "2/2 [==============================] - 0s 6ms/step - loss: 15.9773 - mse: 346.5630\n",
            "Epoch 490/500\n",
            "2/2 [==============================] - 0s 7ms/step - loss: 14.2274 - mse: 280.7603\n",
            "Epoch 491/500\n",
            "2/2 [==============================] - 0s 7ms/step - loss: 26.2661 - mse: 1005.8823\n",
            "Epoch 492/500\n",
            "2/2 [==============================] - 0s 7ms/step - loss: 14.0112 - mse: 313.8996\n",
            "Epoch 493/500\n",
            "2/2 [==============================] - 0s 7ms/step - loss: 10.2559 - mse: 316.3926\n",
            "Epoch 494/500\n",
            "2/2 [==============================] - 0s 7ms/step - loss: 12.8222 - mse: 228.1871\n",
            "Epoch 495/500\n",
            "2/2 [==============================] - 0s 8ms/step - loss: 13.8136 - mse: 257.4536\n",
            "Epoch 496/500\n",
            "2/2 [==============================] - 0s 8ms/step - loss: 12.9854 - mse: 243.1958\n",
            "Epoch 497/500\n",
            "2/2 [==============================] - 0s 7ms/step - loss: 18.1884 - mse: 542.3938\n",
            "Epoch 498/500\n",
            "2/2 [==============================] - 0s 8ms/step - loss: 22.2600 - mse: 720.9057\n",
            "Epoch 499/500\n",
            "2/2 [==============================] - 0s 10ms/step - loss: 8.1323 - mse: 105.3321\n",
            "Epoch 500/500\n",
            "2/2 [==============================] - 0s 9ms/step - loss: 14.1790 - mse: 262.8016\n"
          ]
        },
        {
          "output_type": "execute_result",
          "data": {
            "text/plain": [
              "<keras.callbacks.History at 0x7f2aed4f04f0>"
            ]
          },
          "metadata": {},
          "execution_count": 44
        }
      ]
    },
    {
      "cell_type": "code",
      "source": [
        "y_preds_3=m3.predict(X_test)\n",
        "plot_predictions(predictions=y_preds_3)"
      ],
      "metadata": {
        "colab": {
          "base_uri": "https://localhost:8080/",
          "height": 483
        },
        "id": "8uCxengBL1Wv",
        "outputId": "cd137a1e-88ca-4a50-8c3b-17f6f580455c"
      },
      "execution_count": null,
      "outputs": [
        {
          "output_type": "stream",
          "name": "stderr",
          "text": [
            "WARNING:tensorflow:6 out of the last 6 calls to <function Model.make_predict_function.<locals>.predict_function at 0x7f2aed4cb310> triggered tf.function retracing. Tracing is expensive and the excessive number of tracings could be due to (1) creating @tf.function repeatedly in a loop, (2) passing tensors with different shapes, (3) passing Python objects instead of tensors. For (1), please define your @tf.function outside of the loop. For (2), @tf.function has reduce_retracing=True option that can avoid unnecessary retracing. For (3), please refer to https://www.tensorflow.org/guide/function#controlling_retracing and https://www.tensorflow.org/api_docs/python/tf/function for  more details.\n"
          ]
        },
        {
          "output_type": "stream",
          "name": "stdout",
          "text": [
            "1/1 [==============================] - 0s 74ms/step\n"
          ]
        },
        {
          "output_type": "display_data",
          "data": {
            "text/plain": [
              "<Figure size 720x504 with 1 Axes>"
            ],
            "image/png": "[encoded data removed]"
          },
          "metadata": {
            "needs_background": "light"
          }
        }
      ]
    },
    {
      "cell_type": "code",
      "source": [
        "mae_3=mae(Y_test,(y_preds_3))\n",
        "mse_3=mse(Y_test,(y_preds_3))\n",
        "mae_3,mse_3"
      ],
      "metadata": {
        "colab": {
          "base_uri": "https://localhost:8080/"
        },
        "id": "Bgm7OvtpMGWl",
        "outputId": "920ddf32-5234-4452-ace4-244ab4cca451"
      },
      "execution_count": null,
      "outputs": [
        {
          "output_type": "execute_result",
          "data": {
            "text/plain": [
              "(<tf.Tensor: shape=(), dtype=float32, numpy=67.23966>,\n",
              " <tf.Tensor: shape=(), dtype=float32, numpy=4603.8804>)"
            ]
          },
          "metadata": {},
          "execution_count": 46
        }
      ]
    },
    {
      "cell_type": "code",
      "source": [
        "model_results=[[\"m1\",mae_1.numpy(),mse_1.numpy()],\n",
        "               [\"m2\",mae_2.numpy(),mse_2.numpy()],\n",
        "               [\"m3\",mae_3.numpy(),mse_3.numpy()]]\n",
        "all_results=pd.DataFrame(model_results,columns=[\"model\",\"mae\",\"mse\"])\n",
        "all_results"
      ],
      "metadata": {
        "id": "sqJbYQWrMN3Q",
        "colab": {
          "base_uri": "https://localhost:8080/",
          "height": 143
        },
        "outputId": "9064c72e-4dbc-418c-9260-feaa63873729"
      },
      "execution_count": null,
      "outputs": [
        {
          "output_type": "execute_result",
          "data": {
            "text/plain": [
              "  model        mae          mse\n",
              "0    m1  14.924655   223.585648\n",
              "1    m2  10.002889   107.300392\n",
              "2    m3  67.239662  4603.880371"
            ],
            "text/html": [
              "\n",
              "  <div id=\"df-63b47138-ca79-45bb-a5cb-6a679ad5fe7d\">\n",
              "    <div class=\"colab-df-container\">\n",
              "      <div>\n",
              "<style scoped>\n",
              "    .dataframe tbody tr th:only-of-type {\n",
              "        vertical-align: middle;\n",
              "    }\n",
              "\n",
              "    .dataframe tbody tr th {\n",
              "        vertical-align: top;\n",
              "    }\n",
              "\n",
              "    .dataframe thead th {\n",
              "        text-align: right;\n",
              "    }\n",
              "</style>\n",
              "<table border=\"1\" class=\"dataframe\">\n",
              "  <thead>\n",
              "    <tr style=\"text-align: right;\">\n",
              "      <th></th>\n",
              "      <th>model</th>\n",
              "      <th>mae</th>\n",
              "      <th>mse</th>\n",
              "    </tr>\n",
              "  </thead>\n",
              "  <tbody>\n",
              "    <tr>\n",
              "      <th>0</th>\n",
              "      <td>m1</td>\n",
              "      <td>14.924655</td>\n",
              "      <td>223.585648</td>\n",
              "    </tr>\n",
              "    <tr>\n",
              "      <th>1</th>\n",
              "      <td>m2</td>\n",
              "      <td>10.002889</td>\n",
              "      <td>107.300392</td>\n",
              "    </tr>\n",
              "    <tr>\n",
              "      <th>2</th>\n",
              "      <td>m3</td>\n",
              "      <td>67.239662</td>\n",
              "      <td>4603.880371</td>\n",
              "    </tr>\n",
              "  </tbody>\n",
              "</table>\n",
              "</div>\n",
              "      <button class=\"colab-df-convert\" onclick=\"convertToInteractive('df-63b47138-ca79-45bb-a5cb-6a679ad5fe7d')\"\n",
              "              title=\"Convert this dataframe to an interactive table.\"\n",
              "              style=\"display:none;\">\n",
              "        \n",
              "  <svg xmlns=\"http://www.w3.org/2000/svg\" height=\"24px\"viewBox=\"0 0 24 24\"\n",
              "       width=\"24px\">\n",
              "    <path d=\"M0 0h24v24H0V0z\" fill=\"none\"/>\n",
              "    <path d=\"M18.56 5.44l.94 2.06.94-2.06 2.06-.94-2.06-.94-.94-2.06-.94 2.06-2.06.94zm-11 1L8.5 8.5l.94-2.06 2.06-.94-2.06-.94L8.5 2.5l-.94 2.06-2.06.94zm10 10l.94 2.06.94-2.06 2.06-.94-2.06-.94-.94-2.06-.94 2.06-2.06.94z\"/><path d=\"M17.41 7.96l-1.37-1.37c-.4-.4-.92-.59-1.43-.59-.52 0-1.04.2-1.43.59L10.3 9.45l-7.72 7.72c-.78.78-.78 2.05 0 2.83L4 21.41c.39.39.9.59 1.41.59.51 0 1.02-.2 1.41-.59l7.78-7.78 2.81-2.81c.8-.78.8-2.07 0-2.86zM5.41 20L4 18.59l7.72-7.72 1.47 1.35L5.41 20z\"/>\n",
              "  </svg>\n",
              "      </button>\n",
              "      \n",
              "  <style>\n",
              "    .colab-df-container {\n",
              "      display:flex;\n",
              "      flex-wrap:wrap;\n",
              "      gap: 12px;\n",
              "    }\n",
              "\n",
              "    .colab-df-convert {\n",
              "      background-color: #E8F0FE;\n",
              "      border: none;\n",
              "      border-radius: 50%;\n",
              "      cursor: pointer;\n",
              "      display: none;\n",
              "      fill: #1967D2;\n",
              "      height: 32px;\n",
              "      padding: 0 0 0 0;\n",
              "      width: 32px;\n",
              "    }\n",
              "\n",
              "    .colab-df-convert:hover {\n",
              "      background-color: #E2EBFA;\n",
              "      box-shadow: 0px 1px 2px rgba(60, 64, 67, 0.3), 0px 1px 3px 1px rgba(60, 64, 67, 0.15);\n",
              "      fill: #174EA6;\n",
              "    }\n",
              "\n",
              "    [theme=dark] .colab-df-convert {\n",
              "      background-color: #3B4455;\n",
              "      fill: #D2E3FC;\n",
              "    }\n",
              "\n",
              "    [theme=dark] .colab-df-convert:hover {\n",
              "      background-color: #434B5C;\n",
              "      box-shadow: 0px 1px 3px 1px rgba(0, 0, 0, 0.15);\n",
              "      filter: drop-shadow(0px 1px 2px rgba(0, 0, 0, 0.3));\n",
              "      fill: #FFFFFF;\n",
              "    }\n",
              "  </style>\n",
              "\n",
              "      <script>\n",
              "        const buttonEl =\n",
              "          document.querySelector('#df-63b47138-ca79-45bb-a5cb-6a679ad5fe7d button.colab-df-convert');\n",
              "        buttonEl.style.display =\n",
              "          google.colab.kernel.accessAllowed ? 'block' : 'none';\n",
              "\n",
              "        async function convertToInteractive(key) {\n",
              "          const element = document.querySelector('#df-63b47138-ca79-45bb-a5cb-6a679ad5fe7d');\n",
              "          const dataTable =\n",
              "            await google.colab.kernel.invokeFunction('convertToInteractive',\n",
              "                                                     [key], {});\n",
              "          if (!dataTable) return;\n",
              "\n",
              "          const docLinkHtml = 'Like what you see? Visit the ' +\n",
              "            '<a target=\"_blank\" href=https://colab.research.google.com/notebooks/data_table.ipynb>data table notebook</a>'\n",
              "            + ' to learn more about interactive tables.';\n",
              "          element.innerHTML = '';\n",
              "          dataTable['output_type'] = 'display_data';\n",
              "          await google.colab.output.renderOutput(dataTable, element);\n",
              "          const docLink = document.createElement('div');\n",
              "          docLink.innerHTML = docLinkHtml;\n",
              "          element.appendChild(docLink);\n",
              "        }\n",
              "      </script>\n",
              "    </div>\n",
              "  </div>\n",
              "  "
            ]
          },
          "metadata": {},
          "execution_count": 47
        }
      ]
    },
    {
      "cell_type": "code",
      "source": [],
      "metadata": {
        "id": "V3-wKWAqZZWc"
      },
      "execution_count": null,
      "outputs": []
    }
  ]
}